{
 "cells": [
  {
   "cell_type": "markdown",
   "id": "04aabb37",
   "metadata": {
    "vscode": {
     "languageId": "markdown"
    }
   },
   "source": [
    "## Case Study: Enhancing Customer Strategy at NovaBank with RFM Segmentation\n",
    "\n",
    "### About the Project\n",
    "\n",
    "This project focuses on improving customer relationship strategies for **NovaBank**, a growing digital-first retail bank. While NovaBank had a wide customer base and increasing transaction volume, it lacked clarity on how different customers were engaging with their services—and more importantly, which ones were truly valuable.\n",
    "\n",
    "To address this, we applied **RFM (Recency, Frequency, Monetary) analysis** using Python, alongside unsupervised machine learning techniques, to segment customers based on their transaction behavior. The aim was to help NovaBank build smarter, more personalized marketing and retention strategies.\n",
    "\n",
    "### Business Challenge\n",
    "\n",
    "NovaBank faced three core issues:\n",
    "\n",
    "- **Customer Retention Risk:** Many customers were becoming inactive, and churn rates were starting to climb. Without knowing who was likely to leave, retention was reactive instead of proactive.\n",
    "- **Lack of Personalization:** Marketing messages were generic. The bank didn’t have enough behavioral segmentation to target users based on value or engagement level.\n",
    "- **Inefficient Resource Allocation:** Marketing and support resources were spread evenly, without insight into which customers were worth the most time and investment.\n",
    "\n",
    "### Project Objectives\n",
    "\n",
    "This project aimed to:\n",
    "\n",
    "- Analyze customer transaction data to compute RFM scores.\n",
    "- Segment customers into meaningful groups using Rfm scores\n",
    "- Identify high-value segments for targeted campaigns.\n",
    "- Help NovaBank retain its best customers and engage those at risk of churn.\n",
    "- If possible setup an automation pipeline to keep this running (optional)"
   ]
  },
  {
   "cell_type": "code",
   "execution_count": 1,
   "id": "c0251936",
   "metadata": {},
   "outputs": [],
   "source": [
    "import pandas as pd\n",
    "import numpy as np\n",
    "import matplotlib.pyplot as plt\n",
    "import seaborn as sns"
   ]
  },
  {
   "cell_type": "code",
   "execution_count": 2,
   "id": "c6b1e5d3",
   "metadata": {},
   "outputs": [],
   "source": [
    "df = pd.read_csv(r\"C:\\Users\\pascal\\Desktop\\PROJECTS 2025\\rfm-customer-segmentation-novabank\\data\\bank_data_C.csv\")"
   ]
  },
  {
   "cell_type": "code",
   "execution_count": 3,
   "id": "e93077ab",
   "metadata": {},
   "outputs": [
    {
     "data": {
      "application/vnd.microsoft.datawrangler.viewer.v0+json": {
       "columns": [
        {
         "name": "index",
         "rawType": "int64",
         "type": "integer"
        },
        {
         "name": "TransactionID",
         "rawType": "object",
         "type": "string"
        },
        {
         "name": "CustomerID",
         "rawType": "object",
         "type": "string"
        },
        {
         "name": "CustomerDOB",
         "rawType": "object",
         "type": "string"
        },
        {
         "name": "CustGender",
         "rawType": "object",
         "type": "string"
        },
        {
         "name": "CustLocation",
         "rawType": "object",
         "type": "string"
        },
        {
         "name": "CustAccountBalance",
         "rawType": "float64",
         "type": "float"
        },
        {
         "name": "TransactionDate",
         "rawType": "object",
         "type": "string"
        },
        {
         "name": "TransactionTime",
         "rawType": "int64",
         "type": "integer"
        },
        {
         "name": "TransactionAmount (INR)",
         "rawType": "float64",
         "type": "float"
        }
       ],
       "ref": "bf2b6c3f-a704-4934-970f-e8f5eb2d17b6",
       "rows": [
        [
         "0",
         "T1",
         "C5841053",
         "10/1/94",
         "F",
         "JAMSHEDPUR",
         "17819.05",
         "2/8/16",
         "143207",
         "25.0"
        ],
        [
         "1",
         "T2",
         "C2142763",
         "4/4/57",
         "M",
         "JHAJJAR",
         "2270.69",
         "2/8/16",
         "141858",
         "27999.0"
        ],
        [
         "2",
         "T3",
         "C4417068",
         "26/11/96",
         "F",
         "MUMBAI",
         "17874.44",
         "2/8/16",
         "142712",
         "459.0"
        ],
        [
         "3",
         "T4",
         "C5342380",
         "14/9/73",
         "F",
         "MUMBAI",
         "866503.21",
         "2/8/16",
         "142714",
         "2060.0"
        ],
        [
         "4",
         "T5",
         "C9031234",
         "24/3/88",
         "F",
         "NAVI MUMBAI",
         "6714.43",
         "2/8/16",
         "181156",
         "1762.5"
        ]
       ],
       "shape": {
        "columns": 9,
        "rows": 5
       }
      },
      "text/html": [
       "<div>\n",
       "<style scoped>\n",
       "    .dataframe tbody tr th:only-of-type {\n",
       "        vertical-align: middle;\n",
       "    }\n",
       "\n",
       "    .dataframe tbody tr th {\n",
       "        vertical-align: top;\n",
       "    }\n",
       "\n",
       "    .dataframe thead th {\n",
       "        text-align: right;\n",
       "    }\n",
       "</style>\n",
       "<table border=\"1\" class=\"dataframe\">\n",
       "  <thead>\n",
       "    <tr style=\"text-align: right;\">\n",
       "      <th></th>\n",
       "      <th>TransactionID</th>\n",
       "      <th>CustomerID</th>\n",
       "      <th>CustomerDOB</th>\n",
       "      <th>CustGender</th>\n",
       "      <th>CustLocation</th>\n",
       "      <th>CustAccountBalance</th>\n",
       "      <th>TransactionDate</th>\n",
       "      <th>TransactionTime</th>\n",
       "      <th>TransactionAmount (INR)</th>\n",
       "    </tr>\n",
       "  </thead>\n",
       "  <tbody>\n",
       "    <tr>\n",
       "      <th>0</th>\n",
       "      <td>T1</td>\n",
       "      <td>C5841053</td>\n",
       "      <td>10/1/94</td>\n",
       "      <td>F</td>\n",
       "      <td>JAMSHEDPUR</td>\n",
       "      <td>17819.05</td>\n",
       "      <td>2/8/16</td>\n",
       "      <td>143207</td>\n",
       "      <td>25.0</td>\n",
       "    </tr>\n",
       "    <tr>\n",
       "      <th>1</th>\n",
       "      <td>T2</td>\n",
       "      <td>C2142763</td>\n",
       "      <td>4/4/57</td>\n",
       "      <td>M</td>\n",
       "      <td>JHAJJAR</td>\n",
       "      <td>2270.69</td>\n",
       "      <td>2/8/16</td>\n",
       "      <td>141858</td>\n",
       "      <td>27999.0</td>\n",
       "    </tr>\n",
       "    <tr>\n",
       "      <th>2</th>\n",
       "      <td>T3</td>\n",
       "      <td>C4417068</td>\n",
       "      <td>26/11/96</td>\n",
       "      <td>F</td>\n",
       "      <td>MUMBAI</td>\n",
       "      <td>17874.44</td>\n",
       "      <td>2/8/16</td>\n",
       "      <td>142712</td>\n",
       "      <td>459.0</td>\n",
       "    </tr>\n",
       "    <tr>\n",
       "      <th>3</th>\n",
       "      <td>T4</td>\n",
       "      <td>C5342380</td>\n",
       "      <td>14/9/73</td>\n",
       "      <td>F</td>\n",
       "      <td>MUMBAI</td>\n",
       "      <td>866503.21</td>\n",
       "      <td>2/8/16</td>\n",
       "      <td>142714</td>\n",
       "      <td>2060.0</td>\n",
       "    </tr>\n",
       "    <tr>\n",
       "      <th>4</th>\n",
       "      <td>T5</td>\n",
       "      <td>C9031234</td>\n",
       "      <td>24/3/88</td>\n",
       "      <td>F</td>\n",
       "      <td>NAVI MUMBAI</td>\n",
       "      <td>6714.43</td>\n",
       "      <td>2/8/16</td>\n",
       "      <td>181156</td>\n",
       "      <td>1762.5</td>\n",
       "    </tr>\n",
       "  </tbody>\n",
       "</table>\n",
       "</div>"
      ],
      "text/plain": [
       "  TransactionID CustomerID CustomerDOB CustGender CustLocation  \\\n",
       "0            T1   C5841053     10/1/94          F   JAMSHEDPUR   \n",
       "1            T2   C2142763      4/4/57          M      JHAJJAR   \n",
       "2            T3   C4417068    26/11/96          F       MUMBAI   \n",
       "3            T4   C5342380     14/9/73          F       MUMBAI   \n",
       "4            T5   C9031234     24/3/88          F  NAVI MUMBAI   \n",
       "\n",
       "   CustAccountBalance TransactionDate  TransactionTime  \\\n",
       "0            17819.05          2/8/16           143207   \n",
       "1             2270.69          2/8/16           141858   \n",
       "2            17874.44          2/8/16           142712   \n",
       "3           866503.21          2/8/16           142714   \n",
       "4             6714.43          2/8/16           181156   \n",
       "\n",
       "   TransactionAmount (INR)  \n",
       "0                     25.0  \n",
       "1                  27999.0  \n",
       "2                    459.0  \n",
       "3                   2060.0  \n",
       "4                   1762.5  "
      ]
     },
     "execution_count": 3,
     "metadata": {},
     "output_type": "execute_result"
    }
   ],
   "source": [
    "df.head()"
   ]
  },
  {
   "cell_type": "code",
   "execution_count": 4,
   "id": "31afb743",
   "metadata": {},
   "outputs": [
    {
     "data": {
      "application/vnd.microsoft.datawrangler.viewer.v0+json": {
       "columns": [
        {
         "name": "index",
         "rawType": "object",
         "type": "string"
        },
        {
         "name": "count",
         "rawType": "object",
         "type": "string"
        },
        {
         "name": "unique",
         "rawType": "object",
         "type": "string"
        },
        {
         "name": "top",
         "rawType": "object",
         "type": "string"
        },
        {
         "name": "freq",
         "rawType": "object",
         "type": "string"
        },
        {
         "name": "mean",
         "rawType": "object",
         "type": "string"
        },
        {
         "name": "std",
         "rawType": "object",
         "type": "string"
        },
        {
         "name": "min",
         "rawType": "object",
         "type": "string"
        },
        {
         "name": "25%",
         "rawType": "object",
         "type": "string"
        },
        {
         "name": "50%",
         "rawType": "object",
         "type": "string"
        },
        {
         "name": "75%",
         "rawType": "object",
         "type": "string"
        },
        {
         "name": "max",
         "rawType": "object",
         "type": "string"
        }
       ],
       "ref": "68c28982-102e-4938-aaba-7c4c123acec9",
       "rows": [
        [
         "TransactionID",
         "1041614",
         "1041614",
         "T1",
         "1",
         null,
         null,
         null,
         null,
         null,
         null,
         null
        ],
        [
         "CustomerID",
         "1041614",
         "879358",
         "C5533885",
         "6",
         null,
         null,
         null,
         null,
         null,
         null,
         null
        ],
        [
         "CustomerDOB",
         "1041614",
         "17233",
         "1/1/1800",
         "56292",
         null,
         null,
         null,
         null,
         null,
         null,
         null
        ],
        [
         "CustGender",
         "1041614",
         "3",
         "M",
         "760978",
         null,
         null,
         null,
         null,
         null,
         null,
         null
        ],
        [
         "CustLocation",
         "1041614",
         "9275",
         "MUMBAI",
         "101997",
         null,
         null,
         null,
         null,
         null,
         null,
         null
        ],
        [
         "CustAccountBalance",
         "1041614.0",
         null,
         null,
         null,
         "114998.60528326231",
         "846760.940315889",
         "0.0",
         "4728.14",
         "16768.52",
         "57428.85",
         "115035495.1"
        ],
        [
         "TransactionDate",
         "1041614",
         "55",
         "7/8/16",
         "27084",
         null,
         null,
         null,
         null,
         null,
         null,
         null
        ],
        [
         "TransactionTime",
         "1041614.0",
         null,
         null,
         null,
         "157122.11637804407",
         "51263.516076401065",
         "0.0",
         "124041.0",
         "164247.0",
         "200022.0",
         "235959.0"
        ],
        [
         "TransactionAmount (INR)",
         "1041614.0",
         null,
         null,
         null,
         "1566.0960794689786",
         "6561.46437328544",
         "0.0",
         "160.0",
         "457.5",
         "1200.0",
         "1560034.99"
        ]
       ],
       "shape": {
        "columns": 11,
        "rows": 9
       }
      },
      "text/html": [
       "<div>\n",
       "<style scoped>\n",
       "    .dataframe tbody tr th:only-of-type {\n",
       "        vertical-align: middle;\n",
       "    }\n",
       "\n",
       "    .dataframe tbody tr th {\n",
       "        vertical-align: top;\n",
       "    }\n",
       "\n",
       "    .dataframe thead th {\n",
       "        text-align: right;\n",
       "    }\n",
       "</style>\n",
       "<table border=\"1\" class=\"dataframe\">\n",
       "  <thead>\n",
       "    <tr style=\"text-align: right;\">\n",
       "      <th></th>\n",
       "      <th>count</th>\n",
       "      <th>unique</th>\n",
       "      <th>top</th>\n",
       "      <th>freq</th>\n",
       "      <th>mean</th>\n",
       "      <th>std</th>\n",
       "      <th>min</th>\n",
       "      <th>25%</th>\n",
       "      <th>50%</th>\n",
       "      <th>75%</th>\n",
       "      <th>max</th>\n",
       "    </tr>\n",
       "  </thead>\n",
       "  <tbody>\n",
       "    <tr>\n",
       "      <th>TransactionID</th>\n",
       "      <td>1041614</td>\n",
       "      <td>1041614</td>\n",
       "      <td>T1</td>\n",
       "      <td>1</td>\n",
       "      <td>NaN</td>\n",
       "      <td>NaN</td>\n",
       "      <td>NaN</td>\n",
       "      <td>NaN</td>\n",
       "      <td>NaN</td>\n",
       "      <td>NaN</td>\n",
       "      <td>NaN</td>\n",
       "    </tr>\n",
       "    <tr>\n",
       "      <th>CustomerID</th>\n",
       "      <td>1041614</td>\n",
       "      <td>879358</td>\n",
       "      <td>C5533885</td>\n",
       "      <td>6</td>\n",
       "      <td>NaN</td>\n",
       "      <td>NaN</td>\n",
       "      <td>NaN</td>\n",
       "      <td>NaN</td>\n",
       "      <td>NaN</td>\n",
       "      <td>NaN</td>\n",
       "      <td>NaN</td>\n",
       "    </tr>\n",
       "    <tr>\n",
       "      <th>CustomerDOB</th>\n",
       "      <td>1041614</td>\n",
       "      <td>17233</td>\n",
       "      <td>1/1/1800</td>\n",
       "      <td>56292</td>\n",
       "      <td>NaN</td>\n",
       "      <td>NaN</td>\n",
       "      <td>NaN</td>\n",
       "      <td>NaN</td>\n",
       "      <td>NaN</td>\n",
       "      <td>NaN</td>\n",
       "      <td>NaN</td>\n",
       "    </tr>\n",
       "    <tr>\n",
       "      <th>CustGender</th>\n",
       "      <td>1041614</td>\n",
       "      <td>3</td>\n",
       "      <td>M</td>\n",
       "      <td>760978</td>\n",
       "      <td>NaN</td>\n",
       "      <td>NaN</td>\n",
       "      <td>NaN</td>\n",
       "      <td>NaN</td>\n",
       "      <td>NaN</td>\n",
       "      <td>NaN</td>\n",
       "      <td>NaN</td>\n",
       "    </tr>\n",
       "    <tr>\n",
       "      <th>CustLocation</th>\n",
       "      <td>1041614</td>\n",
       "      <td>9275</td>\n",
       "      <td>MUMBAI</td>\n",
       "      <td>101997</td>\n",
       "      <td>NaN</td>\n",
       "      <td>NaN</td>\n",
       "      <td>NaN</td>\n",
       "      <td>NaN</td>\n",
       "      <td>NaN</td>\n",
       "      <td>NaN</td>\n",
       "      <td>NaN</td>\n",
       "    </tr>\n",
       "    <tr>\n",
       "      <th>CustAccountBalance</th>\n",
       "      <td>1041614.0</td>\n",
       "      <td>NaN</td>\n",
       "      <td>NaN</td>\n",
       "      <td>NaN</td>\n",
       "      <td>114998.605283</td>\n",
       "      <td>846760.940316</td>\n",
       "      <td>0.0</td>\n",
       "      <td>4728.14</td>\n",
       "      <td>16768.52</td>\n",
       "      <td>57428.85</td>\n",
       "      <td>115035495.1</td>\n",
       "    </tr>\n",
       "    <tr>\n",
       "      <th>TransactionDate</th>\n",
       "      <td>1041614</td>\n",
       "      <td>55</td>\n",
       "      <td>7/8/16</td>\n",
       "      <td>27084</td>\n",
       "      <td>NaN</td>\n",
       "      <td>NaN</td>\n",
       "      <td>NaN</td>\n",
       "      <td>NaN</td>\n",
       "      <td>NaN</td>\n",
       "      <td>NaN</td>\n",
       "      <td>NaN</td>\n",
       "    </tr>\n",
       "    <tr>\n",
       "      <th>TransactionTime</th>\n",
       "      <td>1041614.0</td>\n",
       "      <td>NaN</td>\n",
       "      <td>NaN</td>\n",
       "      <td>NaN</td>\n",
       "      <td>157122.116378</td>\n",
       "      <td>51263.516076</td>\n",
       "      <td>0.0</td>\n",
       "      <td>124041.0</td>\n",
       "      <td>164247.0</td>\n",
       "      <td>200022.0</td>\n",
       "      <td>235959.0</td>\n",
       "    </tr>\n",
       "    <tr>\n",
       "      <th>TransactionAmount (INR)</th>\n",
       "      <td>1041614.0</td>\n",
       "      <td>NaN</td>\n",
       "      <td>NaN</td>\n",
       "      <td>NaN</td>\n",
       "      <td>1566.096079</td>\n",
       "      <td>6561.464373</td>\n",
       "      <td>0.0</td>\n",
       "      <td>160.0</td>\n",
       "      <td>457.5</td>\n",
       "      <td>1200.0</td>\n",
       "      <td>1560034.99</td>\n",
       "    </tr>\n",
       "  </tbody>\n",
       "</table>\n",
       "</div>"
      ],
      "text/plain": [
       "                             count   unique       top    freq           mean  \\\n",
       "TransactionID              1041614  1041614        T1       1            NaN   \n",
       "CustomerID                 1041614   879358  C5533885       6            NaN   \n",
       "CustomerDOB                1041614    17233  1/1/1800   56292            NaN   \n",
       "CustGender                 1041614        3         M  760978            NaN   \n",
       "CustLocation               1041614     9275    MUMBAI  101997            NaN   \n",
       "CustAccountBalance       1041614.0      NaN       NaN     NaN  114998.605283   \n",
       "TransactionDate            1041614       55    7/8/16   27084            NaN   \n",
       "TransactionTime          1041614.0      NaN       NaN     NaN  157122.116378   \n",
       "TransactionAmount (INR)  1041614.0      NaN       NaN     NaN    1566.096079   \n",
       "\n",
       "                                   std  min       25%       50%       75%  \\\n",
       "TransactionID                      NaN  NaN       NaN       NaN       NaN   \n",
       "CustomerID                         NaN  NaN       NaN       NaN       NaN   \n",
       "CustomerDOB                        NaN  NaN       NaN       NaN       NaN   \n",
       "CustGender                         NaN  NaN       NaN       NaN       NaN   \n",
       "CustLocation                       NaN  NaN       NaN       NaN       NaN   \n",
       "CustAccountBalance       846760.940316  0.0   4728.14  16768.52  57428.85   \n",
       "TransactionDate                    NaN  NaN       NaN       NaN       NaN   \n",
       "TransactionTime           51263.516076  0.0  124041.0  164247.0  200022.0   \n",
       "TransactionAmount (INR)    6561.464373  0.0     160.0     457.5    1200.0   \n",
       "\n",
       "                                 max  \n",
       "TransactionID                    NaN  \n",
       "CustomerID                       NaN  \n",
       "CustomerDOB                      NaN  \n",
       "CustGender                       NaN  \n",
       "CustLocation                     NaN  \n",
       "CustAccountBalance       115035495.1  \n",
       "TransactionDate                  NaN  \n",
       "TransactionTime             235959.0  \n",
       "TransactionAmount (INR)   1560034.99  "
      ]
     },
     "execution_count": 4,
     "metadata": {},
     "output_type": "execute_result"
    }
   ],
   "source": [
    "df.describe(include='all' # Include all data types\n",
    "           ).T  # Transpose for better readability"
   ]
  },
  {
   "cell_type": "code",
   "execution_count": 5,
   "id": "3d9c75ee",
   "metadata": {},
   "outputs": [
    {
     "data": {
      "application/vnd.microsoft.datawrangler.viewer.v0+json": {
       "columns": [
        {
         "name": "index",
         "rawType": "object",
         "type": "string"
        },
        {
         "name": "0",
         "rawType": "object",
         "type": "string"
        }
       ],
       "ref": "55748e1f-ba83-4c58-b013-57b55ca8c8ed",
       "rows": [
        [
         "TransactionID",
         "object"
        ],
        [
         "CustomerID",
         "object"
        ],
        [
         "CustomerDOB",
         "object"
        ],
        [
         "CustGender",
         "object"
        ],
        [
         "CustLocation",
         "object"
        ],
        [
         "CustAccountBalance",
         "float64"
        ],
        [
         "TransactionDate",
         "object"
        ],
        [
         "TransactionTime",
         "int64"
        ],
        [
         "TransactionAmount (INR)",
         "float64"
        ]
       ],
       "shape": {
        "columns": 1,
        "rows": 9
       }
      },
      "text/plain": [
       "TransactionID               object\n",
       "CustomerID                  object\n",
       "CustomerDOB                 object\n",
       "CustGender                  object\n",
       "CustLocation                object\n",
       "CustAccountBalance         float64\n",
       "TransactionDate             object\n",
       "TransactionTime              int64\n",
       "TransactionAmount (INR)    float64\n",
       "dtype: object"
      ]
     },
     "execution_count": 5,
     "metadata": {},
     "output_type": "execute_result"
    }
   ],
   "source": [
    "df.dtypes  # Check data types of each column"
   ]
  },
  {
   "cell_type": "code",
   "execution_count": 6,
   "id": "27ff7620",
   "metadata": {},
   "outputs": [
    {
     "name": "stdout",
     "output_type": "stream",
     "text": [
      "<class 'pandas.core.frame.DataFrame'>\n",
      "RangeIndex: 1041614 entries, 0 to 1041613\n",
      "Data columns (total 9 columns):\n",
      " #   Column                   Non-Null Count    Dtype  \n",
      "---  ------                   --------------    -----  \n",
      " 0   TransactionID            1041614 non-null  object \n",
      " 1   CustomerID               1041614 non-null  object \n",
      " 2   CustomerDOB              1041614 non-null  object \n",
      " 3   CustGender               1041614 non-null  object \n",
      " 4   CustLocation             1041614 non-null  object \n",
      " 5   CustAccountBalance       1041614 non-null  float64\n",
      " 6   TransactionDate          1041614 non-null  object \n",
      " 7   TransactionTime          1041614 non-null  int64  \n",
      " 8   TransactionAmount (INR)  1041614 non-null  float64\n",
      "dtypes: float64(2), int64(1), object(6)\n",
      "memory usage: 71.5+ MB\n"
     ]
    }
   ],
   "source": [
    "df.info()  # Get a concise summary of the DataFrame"
   ]
  },
  {
   "cell_type": "markdown",
   "id": "1c00f39f",
   "metadata": {},
   "source": [
    "### 1. Data Cleaning"
   ]
  },
  {
   "cell_type": "code",
   "execution_count": 7,
   "id": "5f8aa383",
   "metadata": {},
   "outputs": [
    {
     "data": {
      "application/vnd.microsoft.datawrangler.viewer.v0+json": {
       "columns": [
        {
         "name": "index",
         "rawType": "object",
         "type": "string"
        },
        {
         "name": "0",
         "rawType": "int64",
         "type": "integer"
        }
       ],
       "ref": "ccd8d749-7fca-49bc-8691-86cf4a6a4104",
       "rows": [
        [
         "TransactionID",
         "0"
        ],
        [
         "CustomerID",
         "0"
        ],
        [
         "CustomerDOB",
         "0"
        ],
        [
         "CustGender",
         "0"
        ],
        [
         "CustLocation",
         "0"
        ],
        [
         "CustAccountBalance",
         "0"
        ],
        [
         "TransactionDate",
         "0"
        ],
        [
         "TransactionTime",
         "0"
        ],
        [
         "TransactionAmount (INR)",
         "0"
        ]
       ],
       "shape": {
        "columns": 1,
        "rows": 9
       }
      },
      "text/plain": [
       "TransactionID              0\n",
       "CustomerID                 0\n",
       "CustomerDOB                0\n",
       "CustGender                 0\n",
       "CustLocation               0\n",
       "CustAccountBalance         0\n",
       "TransactionDate            0\n",
       "TransactionTime            0\n",
       "TransactionAmount (INR)    0\n",
       "dtype: int64"
      ]
     },
     "execution_count": 7,
     "metadata": {},
     "output_type": "execute_result"
    }
   ],
   "source": [
    "df.isnull().sum()  # Check for missing values in each column"
   ]
  },
  {
   "cell_type": "code",
   "execution_count": 8,
   "id": "1b1845bc",
   "metadata": {},
   "outputs": [],
   "source": [
    "df['CustomerDOB'] = pd.to_datetime(df['CustomerDOB'], dayfirst=True, errors='coerce')  # Convert to datetime\n",
    "\n"
   ]
  },
  {
   "cell_type": "code",
   "execution_count": 9,
   "id": "120edaa3",
   "metadata": {},
   "outputs": [
    {
     "name": "stdout",
     "output_type": "stream",
     "text": [
      "Number of rows with failed DOB parsing: 0\n"
     ]
    }
   ],
   "source": [
    "## Identify rows where parsing failed (NaT means conversion failed)\n",
    "failed_dobs = df[df['CustomerDOB'].isna()]\n",
    "print(f\"Number of rows with failed DOB parsing: {len(failed_dobs)}\")"
   ]
  },
  {
   "cell_type": "code",
   "execution_count": 10,
   "id": "f89dc828",
   "metadata": {},
   "outputs": [],
   "source": [
    "df['TransactionDate'] = pd.to_datetime(df['TransactionDate'], dayfirst=True, errors='coerce')  # Convert to datetime\n"
   ]
  },
  {
   "cell_type": "code",
   "execution_count": 11,
   "id": "4695066f",
   "metadata": {},
   "outputs": [
    {
     "name": "stdout",
     "output_type": "stream",
     "text": [
      "Number of rows with failed TransactionDate parsing: 0\n"
     ]
    }
   ],
   "source": [
    "# identify failed txns\n",
    "failed_txns = df[df['TransactionDate'].isna()]\n",
    "print(f\"Number of rows with failed TransactionDate parsing: {len(failed_txns)}\")"
   ]
  },
  {
   "cell_type": "code",
   "execution_count": 12,
   "id": "60fd4b01",
   "metadata": {},
   "outputs": [
    {
     "data": {
      "text/plain": [
       "array(['2016-08-02T00:00:00.000000000', '2016-08-01T00:00:00.000000000',\n",
       "       '2016-08-03T00:00:00.000000000', '2016-08-05T00:00:00.000000000',\n",
       "       '2016-08-04T00:00:00.000000000', '2016-08-06T00:00:00.000000000',\n",
       "       '2016-08-09T00:00:00.000000000', '2016-08-08T00:00:00.000000000',\n",
       "       '2016-08-12T00:00:00.000000000', '2016-08-07T00:00:00.000000000',\n",
       "       '2016-10-21T00:00:00.000000000', '2016-10-16T00:00:00.000000000',\n",
       "       '2016-08-10T00:00:00.000000000', '2016-08-14T00:00:00.000000000',\n",
       "       '2016-08-17T00:00:00.000000000', '2016-08-21T00:00:00.000000000',\n",
       "       '2016-08-19T00:00:00.000000000', '2016-08-24T00:00:00.000000000',\n",
       "       '2016-08-22T00:00:00.000000000', '2016-08-29T00:00:00.000000000',\n",
       "       '2016-08-31T00:00:00.000000000', '2016-09-22T00:00:00.000000000',\n",
       "       '2016-09-23T00:00:00.000000000', '2016-08-13T00:00:00.000000000',\n",
       "       '2016-08-25T00:00:00.000000000', '2016-08-28T00:00:00.000000000',\n",
       "       '2016-08-15T00:00:00.000000000', '2016-08-27T00:00:00.000000000',\n",
       "       '2016-08-20T00:00:00.000000000', '2016-08-23T00:00:00.000000000',\n",
       "       '2016-08-30T00:00:00.000000000', '2016-08-11T00:00:00.000000000',\n",
       "       '2016-08-16T00:00:00.000000000', '2016-08-26T00:00:00.000000000',\n",
       "       '2016-09-27T00:00:00.000000000', '2016-08-18T00:00:00.000000000',\n",
       "       '2016-09-25T00:00:00.000000000', '2016-09-26T00:00:00.000000000',\n",
       "       '2016-09-30T00:00:00.000000000', '2016-09-03T00:00:00.000000000',\n",
       "       '2016-09-02T00:00:00.000000000', '2016-09-01T00:00:00.000000000',\n",
       "       '2016-09-06T00:00:00.000000000', '2016-09-05T00:00:00.000000000',\n",
       "       '2016-09-04T00:00:00.000000000', '2016-09-09T00:00:00.000000000',\n",
       "       '2016-09-08T00:00:00.000000000', '2016-09-07T00:00:00.000000000',\n",
       "       '2016-09-12T00:00:00.000000000', '2016-09-11T00:00:00.000000000',\n",
       "       '2016-09-10T00:00:00.000000000', '2016-09-15T00:00:00.000000000',\n",
       "       '2016-09-14T00:00:00.000000000', '2016-09-13T00:00:00.000000000',\n",
       "       '2016-09-18T00:00:00.000000000'], dtype='datetime64[ns]')"
      ]
     },
     "execution_count": 12,
     "metadata": {},
     "output_type": "execute_result"
    }
   ],
   "source": [
    "df['TransactionDate'].unique()  # Check unique values in TransactionDate"
   ]
  },
  {
   "cell_type": "code",
   "execution_count": null,
   "id": "b38a5c49",
   "metadata": {},
   "outputs": [],
   "source": []
  },
  {
   "cell_type": "code",
   "execution_count": null,
   "id": "73a859e3",
   "metadata": {},
   "outputs": [],
   "source": []
  },
  {
   "cell_type": "code",
   "execution_count": 13,
   "id": "b32eb4c0",
   "metadata": {},
   "outputs": [],
   "source": [
    "## create a function to calculate the age of customer and create a column for it \n",
    "def calculate_age(df):\n",
    "    df['CustomerAge'] = df['TransactionDate'].dt.year - df['CustomerDOB'].dt.year\n",
    "    return df\n",
    "\n",
    "\n",
    "df = calculate_age(df)  # Apply the function to the DataFrame"
   ]
  },
  {
   "cell_type": "code",
   "execution_count": 14,
   "id": "ed83f6bc",
   "metadata": {},
   "outputs": [
    {
     "data": {
      "application/vnd.microsoft.datawrangler.viewer.v0+json": {
       "columns": [
        {
         "name": "index",
         "rawType": "int64",
         "type": "integer"
        },
        {
         "name": "TransactionID",
         "rawType": "object",
         "type": "string"
        },
        {
         "name": "CustomerID",
         "rawType": "object",
         "type": "string"
        },
        {
         "name": "CustomerDOB",
         "rawType": "datetime64[ns]",
         "type": "datetime"
        },
        {
         "name": "CustGender",
         "rawType": "object",
         "type": "string"
        },
        {
         "name": "CustLocation",
         "rawType": "object",
         "type": "string"
        },
        {
         "name": "CustAccountBalance",
         "rawType": "float64",
         "type": "float"
        },
        {
         "name": "TransactionDate",
         "rawType": "datetime64[ns]",
         "type": "datetime"
        },
        {
         "name": "TransactionTime",
         "rawType": "int64",
         "type": "integer"
        },
        {
         "name": "TransactionAmount (INR)",
         "rawType": "float64",
         "type": "float"
        },
        {
         "name": "CustomerAge",
         "rawType": "int64",
         "type": "integer"
        }
       ],
       "ref": "8348103a-0b2a-4735-84c0-cbfe5764293a",
       "rows": [
        [
         "0",
         "T1",
         "C5841053",
         "1994-01-10 00:00:00",
         "F",
         "JAMSHEDPUR",
         "17819.05",
         "2016-08-02 00:00:00",
         "143207",
         "25.0",
         "22"
        ],
        [
         "1",
         "T2",
         "C2142763",
         "2057-04-04 00:00:00",
         "M",
         "JHAJJAR",
         "2270.69",
         "2016-08-02 00:00:00",
         "141858",
         "27999.0",
         "-41"
        ],
        [
         "2",
         "T3",
         "C4417068",
         "1996-11-26 00:00:00",
         "F",
         "MUMBAI",
         "17874.44",
         "2016-08-02 00:00:00",
         "142712",
         "459.0",
         "20"
        ],
        [
         "3",
         "T4",
         "C5342380",
         "2073-09-14 00:00:00",
         "F",
         "MUMBAI",
         "866503.21",
         "2016-08-02 00:00:00",
         "142714",
         "2060.0",
         "-57"
        ],
        [
         "4",
         "T5",
         "C9031234",
         "1988-03-24 00:00:00",
         "F",
         "NAVI MUMBAI",
         "6714.43",
         "2016-08-02 00:00:00",
         "181156",
         "1762.5",
         "28"
        ]
       ],
       "shape": {
        "columns": 10,
        "rows": 5
       }
      },
      "text/html": [
       "<div>\n",
       "<style scoped>\n",
       "    .dataframe tbody tr th:only-of-type {\n",
       "        vertical-align: middle;\n",
       "    }\n",
       "\n",
       "    .dataframe tbody tr th {\n",
       "        vertical-align: top;\n",
       "    }\n",
       "\n",
       "    .dataframe thead th {\n",
       "        text-align: right;\n",
       "    }\n",
       "</style>\n",
       "<table border=\"1\" class=\"dataframe\">\n",
       "  <thead>\n",
       "    <tr style=\"text-align: right;\">\n",
       "      <th></th>\n",
       "      <th>TransactionID</th>\n",
       "      <th>CustomerID</th>\n",
       "      <th>CustomerDOB</th>\n",
       "      <th>CustGender</th>\n",
       "      <th>CustLocation</th>\n",
       "      <th>CustAccountBalance</th>\n",
       "      <th>TransactionDate</th>\n",
       "      <th>TransactionTime</th>\n",
       "      <th>TransactionAmount (INR)</th>\n",
       "      <th>CustomerAge</th>\n",
       "    </tr>\n",
       "  </thead>\n",
       "  <tbody>\n",
       "    <tr>\n",
       "      <th>0</th>\n",
       "      <td>T1</td>\n",
       "      <td>C5841053</td>\n",
       "      <td>1994-01-10</td>\n",
       "      <td>F</td>\n",
       "      <td>JAMSHEDPUR</td>\n",
       "      <td>17819.05</td>\n",
       "      <td>2016-08-02</td>\n",
       "      <td>143207</td>\n",
       "      <td>25.0</td>\n",
       "      <td>22</td>\n",
       "    </tr>\n",
       "    <tr>\n",
       "      <th>1</th>\n",
       "      <td>T2</td>\n",
       "      <td>C2142763</td>\n",
       "      <td>2057-04-04</td>\n",
       "      <td>M</td>\n",
       "      <td>JHAJJAR</td>\n",
       "      <td>2270.69</td>\n",
       "      <td>2016-08-02</td>\n",
       "      <td>141858</td>\n",
       "      <td>27999.0</td>\n",
       "      <td>-41</td>\n",
       "    </tr>\n",
       "    <tr>\n",
       "      <th>2</th>\n",
       "      <td>T3</td>\n",
       "      <td>C4417068</td>\n",
       "      <td>1996-11-26</td>\n",
       "      <td>F</td>\n",
       "      <td>MUMBAI</td>\n",
       "      <td>17874.44</td>\n",
       "      <td>2016-08-02</td>\n",
       "      <td>142712</td>\n",
       "      <td>459.0</td>\n",
       "      <td>20</td>\n",
       "    </tr>\n",
       "    <tr>\n",
       "      <th>3</th>\n",
       "      <td>T4</td>\n",
       "      <td>C5342380</td>\n",
       "      <td>2073-09-14</td>\n",
       "      <td>F</td>\n",
       "      <td>MUMBAI</td>\n",
       "      <td>866503.21</td>\n",
       "      <td>2016-08-02</td>\n",
       "      <td>142714</td>\n",
       "      <td>2060.0</td>\n",
       "      <td>-57</td>\n",
       "    </tr>\n",
       "    <tr>\n",
       "      <th>4</th>\n",
       "      <td>T5</td>\n",
       "      <td>C9031234</td>\n",
       "      <td>1988-03-24</td>\n",
       "      <td>F</td>\n",
       "      <td>NAVI MUMBAI</td>\n",
       "      <td>6714.43</td>\n",
       "      <td>2016-08-02</td>\n",
       "      <td>181156</td>\n",
       "      <td>1762.5</td>\n",
       "      <td>28</td>\n",
       "    </tr>\n",
       "  </tbody>\n",
       "</table>\n",
       "</div>"
      ],
      "text/plain": [
       "  TransactionID CustomerID CustomerDOB CustGender CustLocation  \\\n",
       "0            T1   C5841053  1994-01-10          F   JAMSHEDPUR   \n",
       "1            T2   C2142763  2057-04-04          M      JHAJJAR   \n",
       "2            T3   C4417068  1996-11-26          F       MUMBAI   \n",
       "3            T4   C5342380  2073-09-14          F       MUMBAI   \n",
       "4            T5   C9031234  1988-03-24          F  NAVI MUMBAI   \n",
       "\n",
       "   CustAccountBalance TransactionDate  TransactionTime  \\\n",
       "0            17819.05      2016-08-02           143207   \n",
       "1             2270.69      2016-08-02           141858   \n",
       "2            17874.44      2016-08-02           142712   \n",
       "3           866503.21      2016-08-02           142714   \n",
       "4             6714.43      2016-08-02           181156   \n",
       "\n",
       "   TransactionAmount (INR)  CustomerAge  \n",
       "0                     25.0           22  \n",
       "1                  27999.0          -41  \n",
       "2                    459.0           20  \n",
       "3                   2060.0          -57  \n",
       "4                   1762.5           28  "
      ]
     },
     "execution_count": 14,
     "metadata": {},
     "output_type": "execute_result"
    }
   ],
   "source": [
    "df.head()  # Display the first few rows of the DataFrame"
   ]
  },
  {
   "cell_type": "markdown",
   "id": "cd7fc343",
   "metadata": {},
   "source": [
    "##### there is a wrong entry , we have to correct the negative customer age, that is correct the date of birth the recalculate the age\n"
   ]
  },
  {
   "cell_type": "code",
   "execution_count": 15,
   "id": "545c5f0b",
   "metadata": {},
   "outputs": [
    {
     "data": {
      "application/vnd.microsoft.datawrangler.viewer.v0+json": {
       "columns": [
        {
         "name": "index",
         "rawType": "int64",
         "type": "integer"
        },
        {
         "name": "CustomerDOB",
         "rawType": "datetime64[ns]",
         "type": "datetime"
        }
       ],
       "ref": "5a6333b3-e7d6-45dc-81cf-59e814ed5977",
       "rows": [
        [
         "1",
         "2057-04-04 00:00:00"
        ],
        [
         "3",
         "2073-09-14 00:00:00"
        ],
        [
         "5",
         "2072-10-08 00:00:00"
        ],
        [
         "15",
         "2068-07-10 00:00:00"
        ],
        [
         "29",
         "2067-01-21 00:00:00"
        ],
        [
         "50",
         "2066-07-25 00:00:00"
        ],
        [
         "78",
         "2067-05-25 00:00:00"
        ],
        [
         "79",
         "2067-05-04 00:00:00"
        ],
        [
         "86",
         "2074-09-03 00:00:00"
        ],
        [
         "92",
         "2072-04-28 00:00:00"
        ],
        [
         "103",
         "2071-04-15 00:00:00"
        ],
        [
         "104",
         "2067-08-27 00:00:00"
        ],
        [
         "143",
         "2032-01-16 00:00:00"
        ],
        [
         "155",
         "2059-04-26 00:00:00"
        ],
        [
         "193",
         "2067-01-10 00:00:00"
        ],
        [
         "196",
         "2074-04-20 00:00:00"
        ],
        [
         "212",
         "2072-02-06 00:00:00"
        ],
        [
         "216",
         "2071-12-10 00:00:00"
        ],
        [
         "223",
         "2066-05-25 00:00:00"
        ],
        [
         "224",
         "2066-04-17 00:00:00"
        ],
        [
         "226",
         "2067-07-19 00:00:00"
        ],
        [
         "237",
         "2073-08-05 00:00:00"
        ],
        [
         "238",
         "2066-05-26 00:00:00"
        ],
        [
         "239",
         "2074-03-16 00:00:00"
        ],
        [
         "242",
         "2071-10-01 00:00:00"
        ],
        [
         "247",
         "2074-08-20 00:00:00"
        ],
        [
         "258",
         "2073-04-10 00:00:00"
        ],
        [
         "276",
         "2065-08-15 00:00:00"
        ],
        [
         "288",
         "2072-08-02 00:00:00"
        ],
        [
         "304",
         "2041-11-09 00:00:00"
        ],
        [
         "310",
         "2054-11-25 00:00:00"
        ],
        [
         "313",
         "2070-04-27 00:00:00"
        ],
        [
         "352",
         "2071-06-21 00:00:00"
        ],
        [
         "361",
         "2072-02-24 00:00:00"
        ],
        [
         "362",
         "2070-09-06 00:00:00"
        ],
        [
         "363",
         "2071-05-10 00:00:00"
        ],
        [
         "387",
         "2021-01-19 00:00:00"
        ],
        [
         "398",
         "2054-07-07 00:00:00"
        ],
        [
         "406",
         "2065-08-08 00:00:00"
        ],
        [
         "409",
         "2072-10-05 00:00:00"
        ],
        [
         "455",
         "2069-06-10 00:00:00"
        ],
        [
         "466",
         "2074-10-15 00:00:00"
        ],
        [
         "489",
         "2043-11-24 00:00:00"
        ],
        [
         "492",
         "2070-07-16 00:00:00"
        ],
        [
         "503",
         "2068-01-13 00:00:00"
        ],
        [
         "532",
         "2072-01-15 00:00:00"
        ],
        [
         "561",
         "2074-01-29 00:00:00"
        ],
        [
         "575",
         "2068-05-17 00:00:00"
        ],
        [
         "579",
         "2051-09-02 00:00:00"
        ],
        [
         "612",
         "2060-11-16 00:00:00"
        ]
       ],
       "shape": {
        "columns": 1,
        "rows": 104836
       }
      },
      "text/plain": [
       "1         2057-04-04\n",
       "3         2073-09-14\n",
       "5         2072-10-08\n",
       "15        2068-07-10\n",
       "29        2067-01-21\n",
       "             ...    \n",
       "1041553   2070-09-20\n",
       "1041557   2048-07-15\n",
       "1041583   2033-10-05\n",
       "1041591   2071-10-05\n",
       "1041599   2071-08-21\n",
       "Name: CustomerDOB, Length: 104836, dtype: datetime64[ns]"
      ]
     },
     "execution_count": 15,
     "metadata": {},
     "output_type": "execute_result"
    }
   ],
   "source": [
    "df[df['CustomerAge'] <= 0]['CustomerDOB']  # Check for negative ages, which indicate errors in date conversion"
   ]
  },
  {
   "cell_type": "markdown",
   "id": "8d2bf9d6",
   "metadata": {},
   "source": [
    "### 🔍 Understanding the Logic — Step by Step\n",
    "\n",
    "Before analysis, we found some customer birth dates were clearly invalid — like dates in the future or ages over 100. To ensure accurate age-based insights, we applied logical fixes to correct these errors and create a clean, realistic `CustomerAge` column.\n"
   ]
  },
  {
   "cell_type": "markdown",
   "id": "ade66c88",
   "metadata": {},
   "source": [
    "### Code Implementation"
   ]
  },
  {
   "cell_type": "code",
   "execution_count": 16,
   "id": "d43730eb",
   "metadata": {},
   "outputs": [],
   "source": [
    "# STEP 1: Fix future DOBs (where DOB > transaction date)\n",
    "df['InvalidDOB'] = df['CustomerDOB'] > df['TransactionDate']  # Flag future dates\n",
    "df.loc[df['InvalidDOB'], 'CustomerDOB'] = df.loc[df['InvalidDOB'], 'CustomerDOB'].apply(\n",
    "    lambda d: d.replace(year=d.year - 100)\n",
    ")\n",
    "\n",
    "# STEP 2: Recalculate age after fixing DOBs\n",
    "df = calculate_age(df)\n",
    "\n",
    "# STEP 3: Replace unrealistic ages (age > 100 or age < 5)\n",
    "# First, get the median age from valid range\n",
    "valid_ages = df[(df['CustomerAge'] >= 5) & (df['CustomerAge'] <= 100)]['CustomerAge']\n",
    "median_age = int(valid_ages.median())\n",
    "\n",
    "# Estimate a corrected DOB using median age\n",
    "mean_transaction_year = int(df['TransactionDate'].dt.year.mean())\n",
    "approx_dob = pd.to_datetime(f\"{mean_transaction_year - median_age}-01-01\")\n",
    "\n",
    "# Apply correction to extreme age outliers\n",
    "df.loc[(df['CustomerAge'] > 100) | (df['CustomerAge'] < 5), 'CustomerDOB'] = approx_dob\n",
    "\n",
    "# Final age recalculation\n",
    "df = calculate_age(df)\n"
   ]
  },
  {
   "cell_type": "code",
   "execution_count": 17,
   "id": "c21c72a9",
   "metadata": {},
   "outputs": [
    {
     "name": "stdout",
     "output_type": "stream",
     "text": [
      "✅ Fixed future-dated DOBs: 104834\n",
      "✅ Fixed age outliers (<5 or >100): 0\n"
     ]
    }
   ],
   "source": [
    "# check the results\n",
    "print(\"✅ Fixed future-dated DOBs:\", df['InvalidDOB'].sum())\n",
    "print(\"✅ Fixed age outliers (<5 or >100):\", df[(df['CustomerAge'] > 100) | (df['CustomerAge'] < 5)].shape[0])\n"
   ]
  },
  {
   "cell_type": "code",
   "execution_count": 18,
   "id": "3889ebcc",
   "metadata": {},
   "outputs": [
    {
     "data": {
      "application/vnd.microsoft.datawrangler.viewer.v0+json": {
       "columns": [
        {
         "name": "index",
         "rawType": "int64",
         "type": "integer"
        },
        {
         "name": "TransactionID",
         "rawType": "object",
         "type": "string"
        },
        {
         "name": "CustomerID",
         "rawType": "object",
         "type": "string"
        },
        {
         "name": "CustomerDOB",
         "rawType": "datetime64[ns]",
         "type": "datetime"
        },
        {
         "name": "CustGender",
         "rawType": "object",
         "type": "string"
        },
        {
         "name": "CustLocation",
         "rawType": "object",
         "type": "string"
        },
        {
         "name": "CustAccountBalance",
         "rawType": "float64",
         "type": "float"
        },
        {
         "name": "TransactionDate",
         "rawType": "datetime64[ns]",
         "type": "datetime"
        },
        {
         "name": "TransactionTime",
         "rawType": "int64",
         "type": "integer"
        },
        {
         "name": "TransactionAmount (INR)",
         "rawType": "float64",
         "type": "float"
        },
        {
         "name": "CustomerAge",
         "rawType": "int64",
         "type": "integer"
        },
        {
         "name": "InvalidDOB",
         "rawType": "bool",
         "type": "boolean"
        }
       ],
       "ref": "36ee081d-ea13-4bcf-81a1-b525b4ad48e0",
       "rows": [
        [
         "0",
         "T1",
         "C5841053",
         "1994-01-10 00:00:00",
         "F",
         "JAMSHEDPUR",
         "17819.05",
         "2016-08-02 00:00:00",
         "143207",
         "25.0",
         "22",
         "False"
        ],
        [
         "1",
         "T2",
         "C2142763",
         "1957-04-04 00:00:00",
         "M",
         "JHAJJAR",
         "2270.69",
         "2016-08-02 00:00:00",
         "141858",
         "27999.0",
         "59",
         "True"
        ],
        [
         "2",
         "T3",
         "C4417068",
         "1996-11-26 00:00:00",
         "F",
         "MUMBAI",
         "17874.44",
         "2016-08-02 00:00:00",
         "142712",
         "459.0",
         "20",
         "False"
        ],
        [
         "3",
         "T4",
         "C5342380",
         "1973-09-14 00:00:00",
         "F",
         "MUMBAI",
         "866503.21",
         "2016-08-02 00:00:00",
         "142714",
         "2060.0",
         "43",
         "True"
        ],
        [
         "4",
         "T5",
         "C9031234",
         "1988-03-24 00:00:00",
         "F",
         "NAVI MUMBAI",
         "6714.43",
         "2016-08-02 00:00:00",
         "181156",
         "1762.5",
         "28",
         "False"
        ]
       ],
       "shape": {
        "columns": 11,
        "rows": 5
       }
      },
      "text/html": [
       "<div>\n",
       "<style scoped>\n",
       "    .dataframe tbody tr th:only-of-type {\n",
       "        vertical-align: middle;\n",
       "    }\n",
       "\n",
       "    .dataframe tbody tr th {\n",
       "        vertical-align: top;\n",
       "    }\n",
       "\n",
       "    .dataframe thead th {\n",
       "        text-align: right;\n",
       "    }\n",
       "</style>\n",
       "<table border=\"1\" class=\"dataframe\">\n",
       "  <thead>\n",
       "    <tr style=\"text-align: right;\">\n",
       "      <th></th>\n",
       "      <th>TransactionID</th>\n",
       "      <th>CustomerID</th>\n",
       "      <th>CustomerDOB</th>\n",
       "      <th>CustGender</th>\n",
       "      <th>CustLocation</th>\n",
       "      <th>CustAccountBalance</th>\n",
       "      <th>TransactionDate</th>\n",
       "      <th>TransactionTime</th>\n",
       "      <th>TransactionAmount (INR)</th>\n",
       "      <th>CustomerAge</th>\n",
       "      <th>InvalidDOB</th>\n",
       "    </tr>\n",
       "  </thead>\n",
       "  <tbody>\n",
       "    <tr>\n",
       "      <th>0</th>\n",
       "      <td>T1</td>\n",
       "      <td>C5841053</td>\n",
       "      <td>1994-01-10</td>\n",
       "      <td>F</td>\n",
       "      <td>JAMSHEDPUR</td>\n",
       "      <td>17819.05</td>\n",
       "      <td>2016-08-02</td>\n",
       "      <td>143207</td>\n",
       "      <td>25.0</td>\n",
       "      <td>22</td>\n",
       "      <td>False</td>\n",
       "    </tr>\n",
       "    <tr>\n",
       "      <th>1</th>\n",
       "      <td>T2</td>\n",
       "      <td>C2142763</td>\n",
       "      <td>1957-04-04</td>\n",
       "      <td>M</td>\n",
       "      <td>JHAJJAR</td>\n",
       "      <td>2270.69</td>\n",
       "      <td>2016-08-02</td>\n",
       "      <td>141858</td>\n",
       "      <td>27999.0</td>\n",
       "      <td>59</td>\n",
       "      <td>True</td>\n",
       "    </tr>\n",
       "    <tr>\n",
       "      <th>2</th>\n",
       "      <td>T3</td>\n",
       "      <td>C4417068</td>\n",
       "      <td>1996-11-26</td>\n",
       "      <td>F</td>\n",
       "      <td>MUMBAI</td>\n",
       "      <td>17874.44</td>\n",
       "      <td>2016-08-02</td>\n",
       "      <td>142712</td>\n",
       "      <td>459.0</td>\n",
       "      <td>20</td>\n",
       "      <td>False</td>\n",
       "    </tr>\n",
       "    <tr>\n",
       "      <th>3</th>\n",
       "      <td>T4</td>\n",
       "      <td>C5342380</td>\n",
       "      <td>1973-09-14</td>\n",
       "      <td>F</td>\n",
       "      <td>MUMBAI</td>\n",
       "      <td>866503.21</td>\n",
       "      <td>2016-08-02</td>\n",
       "      <td>142714</td>\n",
       "      <td>2060.0</td>\n",
       "      <td>43</td>\n",
       "      <td>True</td>\n",
       "    </tr>\n",
       "    <tr>\n",
       "      <th>4</th>\n",
       "      <td>T5</td>\n",
       "      <td>C9031234</td>\n",
       "      <td>1988-03-24</td>\n",
       "      <td>F</td>\n",
       "      <td>NAVI MUMBAI</td>\n",
       "      <td>6714.43</td>\n",
       "      <td>2016-08-02</td>\n",
       "      <td>181156</td>\n",
       "      <td>1762.5</td>\n",
       "      <td>28</td>\n",
       "      <td>False</td>\n",
       "    </tr>\n",
       "  </tbody>\n",
       "</table>\n",
       "</div>"
      ],
      "text/plain": [
       "  TransactionID CustomerID CustomerDOB CustGender CustLocation  \\\n",
       "0            T1   C5841053  1994-01-10          F   JAMSHEDPUR   \n",
       "1            T2   C2142763  1957-04-04          M      JHAJJAR   \n",
       "2            T3   C4417068  1996-11-26          F       MUMBAI   \n",
       "3            T4   C5342380  1973-09-14          F       MUMBAI   \n",
       "4            T5   C9031234  1988-03-24          F  NAVI MUMBAI   \n",
       "\n",
       "   CustAccountBalance TransactionDate  TransactionTime  \\\n",
       "0            17819.05      2016-08-02           143207   \n",
       "1             2270.69      2016-08-02           141858   \n",
       "2            17874.44      2016-08-02           142712   \n",
       "3           866503.21      2016-08-02           142714   \n",
       "4             6714.43      2016-08-02           181156   \n",
       "\n",
       "   TransactionAmount (INR)  CustomerAge  InvalidDOB  \n",
       "0                     25.0           22       False  \n",
       "1                  27999.0           59        True  \n",
       "2                    459.0           20       False  \n",
       "3                   2060.0           43        True  \n",
       "4                   1762.5           28       False  "
      ]
     },
     "execution_count": 18,
     "metadata": {},
     "output_type": "execute_result"
    }
   ],
   "source": [
    "df.head()  # Display the first few rows of the DataFrame"
   ]
  },
  {
   "cell_type": "code",
   "execution_count": 19,
   "id": "70ffb61a",
   "metadata": {},
   "outputs": [
    {
     "data": {
      "image/png": "[encoded data removed]",
      "text/plain": [
       "<Figure size 1000x600 with 1 Axes>"
      ]
     },
     "metadata": {},
     "output_type": "display_data"
    }
   ],
   "source": [
    "# Plot the distribution of customer ages\n",
    "plt.figure(figsize=(10, 6))\n",
    "sns.histplot(df['CustomerAge'], bins=30, kde=True)\n",
    "plt.title('Distribution of Customer Ages')\n",
    "plt.xlabel('Age')\n",
    "plt.ylabel('Frequency')\n",
    "plt.grid(True)\n",
    "plt.tight_layout()  # Adjust layout to prevent overlap\n",
    "plt.show()  # Show the plot"
   ]
  },
  {
   "cell_type": "code",
   "execution_count": 20,
   "id": "4f2c20a3",
   "metadata": {},
   "outputs": [
    {
     "data": {
      "application/vnd.microsoft.datawrangler.viewer.v0+json": {
       "columns": [
        {
         "name": "index",
         "rawType": "object",
         "type": "string"
        },
        {
         "name": "CustomerAge",
         "rawType": "float64",
         "type": "float"
        }
       ],
       "ref": "9fa34d1d-739c-4140-9267-97af52d73886",
       "rows": [
        [
         "count",
         "1041614.0"
        ],
        [
         "mean",
         "30.92218710578007"
        ],
        [
         "std",
         "8.525402502023363"
        ],
        [
         "min",
         "5.0"
        ],
        [
         "25%",
         "25.0"
        ],
        [
         "50%",
         "29.0"
        ],
        [
         "75%",
         "34.0"
        ],
        [
         "max",
         "98.0"
        ]
       ],
       "shape": {
        "columns": 1,
        "rows": 8
       }
      },
      "text/plain": [
       "count    1.041614e+06\n",
       "mean     3.092219e+01\n",
       "std      8.525403e+00\n",
       "min      5.000000e+00\n",
       "25%      2.500000e+01\n",
       "50%      2.900000e+01\n",
       "75%      3.400000e+01\n",
       "max      9.800000e+01\n",
       "Name: CustomerAge, dtype: float64"
      ]
     },
     "execution_count": 20,
     "metadata": {},
     "output_type": "execute_result"
    }
   ],
   "source": [
    "# Check the distribution of customer ages\n",
    "df['CustomerAge'].describe()  # Get descriptive statistics for CustomerAge    "
   ]
  },
  {
   "cell_type": "markdown",
   "id": "bc1d873a",
   "metadata": {},
   "source": [
    "### Data Cleaning Summary: Customer Age Fix\n",
    "\n",
    "**Issue:**  \n",
    "Some customer `CustomerDOB` values were in the future (e.g., 2071), leading to negative or unrealistic ages (e.g., -57 or 216 years old).\n",
    "\n",
    "**Steps Taken:**  \n",
    "1. Converted `CustomerDOB` and `TransactionDate` to datetime format.\n",
    "2. Fixed future-dated DOBs by subtracting 100 years if DOB > Transaction Year.\n",
    "3. Recalculated `CustomerAge` using:  \n",
    "   `CustomerAge = TransactionYear - DOB Year`\n",
    "4. Verified and removed remaining age outliers (<5 or >100) by replacing them with the mean DOB.\n",
    "\n",
    "✅ Result: All ages now fall between **5 and 98 years**, with a clean, realistic distribution.\n"
   ]
  },
  {
   "cell_type": "code",
   "execution_count": 21,
   "id": "a55f8921",
   "metadata": {},
   "outputs": [
    {
     "data": {
      "application/vnd.microsoft.datawrangler.viewer.v0+json": {
       "columns": [
        {
         "name": "index",
         "rawType": "object",
         "type": "string"
        },
        {
         "name": "count",
         "rawType": "float64",
         "type": "float"
        },
        {
         "name": "mean",
         "rawType": "float64",
         "type": "float"
        },
        {
         "name": "std",
         "rawType": "float64",
         "type": "float"
        },
        {
         "name": "min",
         "rawType": "float64",
         "type": "float"
        },
        {
         "name": "25%",
         "rawType": "float64",
         "type": "float"
        },
        {
         "name": "50%",
         "rawType": "float64",
         "type": "float"
        },
        {
         "name": "75%",
         "rawType": "float64",
         "type": "float"
        },
        {
         "name": "max",
         "rawType": "float64",
         "type": "float"
        }
       ],
       "ref": "a2f174ae-58f4-4af1-91b8-403f92dde7ed",
       "rows": [
        [
         "CustAccountBalance",
         "1041614.0",
         "114998.60528326231",
         "846760.940315889",
         "0.0",
         "4728.14",
         "16768.52",
         "57428.85",
         "115035495.1"
        ],
        [
         "TransactionTime",
         "1041614.0",
         "157122.11637804407",
         "51263.516076401065",
         "0.0",
         "124041.0",
         "164247.0",
         "200022.0",
         "235959.0"
        ],
        [
         "TransactionAmount (INR)",
         "1041614.0",
         "1566.0960794689786",
         "6561.46437328544",
         "0.0",
         "160.0",
         "457.5",
         "1200.0",
         "1560034.99"
        ],
        [
         "CustomerAge",
         "1041614.0",
         "30.92218710578007",
         "8.525402502023363",
         "5.0",
         "25.0",
         "29.0",
         "34.0",
         "98.0"
        ]
       ],
       "shape": {
        "columns": 8,
        "rows": 4
       }
      },
      "text/html": [
       "<div>\n",
       "<style scoped>\n",
       "    .dataframe tbody tr th:only-of-type {\n",
       "        vertical-align: middle;\n",
       "    }\n",
       "\n",
       "    .dataframe tbody tr th {\n",
       "        vertical-align: top;\n",
       "    }\n",
       "\n",
       "    .dataframe thead th {\n",
       "        text-align: right;\n",
       "    }\n",
       "</style>\n",
       "<table border=\"1\" class=\"dataframe\">\n",
       "  <thead>\n",
       "    <tr style=\"text-align: right;\">\n",
       "      <th></th>\n",
       "      <th>count</th>\n",
       "      <th>mean</th>\n",
       "      <th>std</th>\n",
       "      <th>min</th>\n",
       "      <th>25%</th>\n",
       "      <th>50%</th>\n",
       "      <th>75%</th>\n",
       "      <th>max</th>\n",
       "    </tr>\n",
       "  </thead>\n",
       "  <tbody>\n",
       "    <tr>\n",
       "      <th>CustAccountBalance</th>\n",
       "      <td>1041614.0</td>\n",
       "      <td>114998.605283</td>\n",
       "      <td>846760.940316</td>\n",
       "      <td>0.0</td>\n",
       "      <td>4728.14</td>\n",
       "      <td>16768.52</td>\n",
       "      <td>57428.85</td>\n",
       "      <td>1.150355e+08</td>\n",
       "    </tr>\n",
       "    <tr>\n",
       "      <th>TransactionTime</th>\n",
       "      <td>1041614.0</td>\n",
       "      <td>157122.116378</td>\n",
       "      <td>51263.516076</td>\n",
       "      <td>0.0</td>\n",
       "      <td>124041.00</td>\n",
       "      <td>164247.00</td>\n",
       "      <td>200022.00</td>\n",
       "      <td>2.359590e+05</td>\n",
       "    </tr>\n",
       "    <tr>\n",
       "      <th>TransactionAmount (INR)</th>\n",
       "      <td>1041614.0</td>\n",
       "      <td>1566.096079</td>\n",
       "      <td>6561.464373</td>\n",
       "      <td>0.0</td>\n",
       "      <td>160.00</td>\n",
       "      <td>457.50</td>\n",
       "      <td>1200.00</td>\n",
       "      <td>1.560035e+06</td>\n",
       "    </tr>\n",
       "    <tr>\n",
       "      <th>CustomerAge</th>\n",
       "      <td>1041614.0</td>\n",
       "      <td>30.922187</td>\n",
       "      <td>8.525403</td>\n",
       "      <td>5.0</td>\n",
       "      <td>25.00</td>\n",
       "      <td>29.00</td>\n",
       "      <td>34.00</td>\n",
       "      <td>9.800000e+01</td>\n",
       "    </tr>\n",
       "  </tbody>\n",
       "</table>\n",
       "</div>"
      ],
      "text/plain": [
       "                             count           mean            std  min  \\\n",
       "CustAccountBalance       1041614.0  114998.605283  846760.940316  0.0   \n",
       "TransactionTime          1041614.0  157122.116378   51263.516076  0.0   \n",
       "TransactionAmount (INR)  1041614.0    1566.096079    6561.464373  0.0   \n",
       "CustomerAge              1041614.0      30.922187       8.525403  5.0   \n",
       "\n",
       "                               25%        50%        75%           max  \n",
       "CustAccountBalance         4728.14   16768.52   57428.85  1.150355e+08  \n",
       "TransactionTime          124041.00  164247.00  200022.00  2.359590e+05  \n",
       "TransactionAmount (INR)     160.00     457.50    1200.00  1.560035e+06  \n",
       "CustomerAge                  25.00      29.00      34.00  9.800000e+01  "
      ]
     },
     "execution_count": 21,
     "metadata": {},
     "output_type": "execute_result"
    }
   ],
   "source": [
    "df.describe().T  # Transpose for better readability"
   ]
  },
  {
   "cell_type": "markdown",
   "id": "754943d5",
   "metadata": {},
   "source": [
    "#### 📊 Summary Statistics\n",
    "\n",
    "After cleaning, here are key statistics for the dataset (1,041,614 records):\n",
    "\n",
    "- **CustAccountBalance**:  \n",
    "  - Mean balance is ₹114,999, but with a very high standard deviation — indicating large disparities between customer account sizes.  \n",
    "  - 75% of customers have balances below ₹57,429.\n",
    "\n",
    "- **TransactionAmount (INR)**:  \n",
    "  - Average transaction amount is ₹1,566.  \n",
    "  - Most transactions (75%) are below ₹1,200, but outliers exist with amounts over ₹1.5 million.\n",
    "\n",
    "\n",
    "- **CustomerAge**:  \n",
    "  - Average age is ~31 years.  \n",
    "  - Most customers fall between ages 25 and 34.  \n",
    "  - No unrealistic ages remain after cleaning (range: 5 to 98).\n",
    "\n",
    "This summary gives a quick snapshot of customer financial behavior and demographic spread.\n"
   ]
  },
  {
   "cell_type": "markdown",
   "id": "51be7934",
   "metadata": {},
   "source": [
    "### Gender"
   ]
  },
  {
   "cell_type": "code",
   "execution_count": 22,
   "id": "1f0e7436",
   "metadata": {},
   "outputs": [
    {
     "data": {
      "application/vnd.microsoft.datawrangler.viewer.v0+json": {
       "columns": [
        {
         "name": "index",
         "rawType": "object",
         "type": "string"
        },
        {
         "name": "CustGender",
         "rawType": "int64",
         "type": "integer"
        }
       ],
       "ref": "399b8467-bf2f-4866-a385-ab6439b08378",
       "rows": [
        [
         "M",
         "760978"
        ],
        [
         "F",
         "280635"
        ],
        [
         "T",
         "1"
        ]
       ],
       "shape": {
        "columns": 1,
        "rows": 3
       }
      },
      "text/plain": [
       "M    760978\n",
       "F    280635\n",
       "T         1\n",
       "Name: CustGender, dtype: int64"
      ]
     },
     "execution_count": 22,
     "metadata": {},
     "output_type": "execute_result"
    }
   ],
   "source": [
    "df['CustGender'].value_counts()  # Check the distribution"
   ]
  },
  {
   "cell_type": "code",
   "execution_count": 23,
   "id": "d266b240",
   "metadata": {},
   "outputs": [],
   "source": [
    "# replace the T with M\n",
    "df['CustGender'] = df['CustGender'].replace({'T': 'M'})"
   ]
  },
  {
   "cell_type": "code",
   "execution_count": 24,
   "id": "387debc8",
   "metadata": {},
   "outputs": [
    {
     "data": {
      "application/vnd.microsoft.datawrangler.viewer.v0+json": {
       "columns": [
        {
         "name": "index",
         "rawType": "object",
         "type": "string"
        },
        {
         "name": "CustGender",
         "rawType": "int64",
         "type": "integer"
        }
       ],
       "ref": "d1af5d18-93ab-44ff-848f-279c687de2f0",
       "rows": [
        [
         "M",
         "760979"
        ],
        [
         "F",
         "280635"
        ]
       ],
       "shape": {
        "columns": 1,
        "rows": 2
       }
      },
      "text/plain": [
       "M    760979\n",
       "F    280635\n",
       "Name: CustGender, dtype: int64"
      ]
     },
     "execution_count": 24,
     "metadata": {},
     "output_type": "execute_result"
    }
   ],
   "source": [
    "df['CustGender'].value_counts()  # Check the distribution"
   ]
  },
  {
   "cell_type": "code",
   "execution_count": 25,
   "id": "6d6ff009",
   "metadata": {},
   "outputs": [
    {
     "data": {
      "application/vnd.microsoft.datawrangler.viewer.v0+json": {
       "columns": [
        {
         "name": "index",
         "rawType": "object",
         "type": "string"
        },
        {
         "name": "CustLocation",
         "rawType": "int64",
         "type": "integer"
        }
       ],
       "ref": "60973181-9f02-424e-89ec-c4610c6220a5",
       "rows": [
        [
         "MUMBAI",
         "101997"
        ],
        [
         "NEW DELHI",
         "84143"
        ],
        [
         "BANGALORE",
         "81330"
        ],
        [
         "GURGAON",
         "73594"
        ],
        [
         "DELHI",
         "70549"
        ],
        [
         "NOIDA",
         "32656"
        ],
        [
         "CHENNAI",
         "29840"
        ],
        [
         "PUNE",
         "25690"
        ],
        [
         "HYDERABAD",
         "22976"
        ],
        [
         "THANE",
         "21397"
        ],
        [
         "KOLKATA",
         "19851"
        ],
        [
         "GHAZIABAD",
         "15722"
        ],
        [
         "NAVI MUMBAI",
         "12916"
        ],
        [
         "AHMEDABAD",
         "12145"
        ],
        [
         "FARIDABAD",
         "11226"
        ],
        [
         "JAIPUR",
         "9830"
        ],
        [
         "CHANDIGARH",
         "9500"
        ],
        [
         "LUCKNOW",
         "7750"
        ],
        [
         "MOHALI",
         "6656"
        ],
        [
         "SURAT",
         "5704"
        ],
        [
         "NASHIK",
         "4960"
        ],
        [
         "LUDHIANA",
         "4907"
        ],
        [
         "VISAKHAPATNAM",
         "4442"
        ],
        [
         "DEHRADUN",
         "4286"
        ],
        [
         "INDORE",
         "3821"
        ],
        [
         "AMRITSAR",
         "3812"
        ],
        [
         "VADODARA",
         "3805"
        ],
        [
         "AGRA",
         "3615"
        ],
        [
         "NAGPUR",
         "3562"
        ],
        [
         "COIMBATORE",
         "3539"
        ],
        [
         "KANPUR",
         "3501"
        ],
        [
         "MEERUT",
         "3387"
        ],
        [
         "PANCHKULA",
         "3311"
        ],
        [
         "AURANGABAD",
         "3302"
        ],
        [
         "GREATER NOIDA",
         "3230"
        ],
        [
         "GUWAHATI",
         "2862"
        ],
        [
         "GUNTUR",
         "2853"
        ],
        [
         "JALANDHAR",
         "2832"
        ],
        [
         "RANGA REDDY",
         "2780"
        ],
        [
         "BHOPAL",
         "2731"
        ],
        [
         "UDAIPUR",
         "2650"
        ],
        [
         "PATNA",
         "2602"
        ],
        [
         "RANCHI",
         "2258"
        ],
        [
         "ERNAKULAM",
         "2251"
        ],
        [
         "REWARI",
         "2217"
        ],
        [
         "BENGALURU",
         "2185"
        ],
        [
         "PATIALA",
         "2137"
        ],
        [
         "SECUNDERABAD",
         "2093"
        ],
        [
         "HOWRAH",
         "2069"
        ],
        [
         "PANIPAT",
         "2056"
        ]
       ],
       "shape": {
        "columns": 1,
        "rows": 9275
       }
      },
      "text/plain": [
       "MUMBAI                            101997\n",
       "NEW DELHI                          84143\n",
       "BANGALORE                          81330\n",
       "GURGAON                            73594\n",
       "DELHI                              70549\n",
       "                                   ...  \n",
       "DISTRICT PURI                          1\n",
       "DHAKOLA                                1\n",
       "KANDESHWAR STATION NAVI MUMBAI         1\n",
       "HOSHIAR PUR                            1\n",
       "IMPERIA THANE WEST                     1\n",
       "Name: CustLocation, Length: 9275, dtype: int64"
      ]
     },
     "execution_count": 25,
     "metadata": {},
     "output_type": "execute_result"
    }
   ],
   "source": [
    "df['CustLocation'].value_counts()  # Check the distribution of customer locations"
   ]
  },
  {
   "cell_type": "markdown",
   "id": "284016d2",
   "metadata": {},
   "source": [
    "#### Account Balance Analysis"
   ]
  },
  {
   "cell_type": "code",
   "execution_count": 26,
   "id": "877c108c",
   "metadata": {},
   "outputs": [
    {
     "data": {
      "application/vnd.microsoft.datawrangler.viewer.v0+json": {
       "columns": [
        {
         "name": "index",
         "rawType": "object",
         "type": "string"
        },
        {
         "name": "CustAccountBalance",
         "rawType": "float64",
         "type": "float"
        }
       ],
       "ref": "cea2841e-63e2-4c02-8271-2e06cec94639",
       "rows": [
        [
         "count",
         "1041614.0"
        ],
        [
         "mean",
         "114998.60528326231"
        ],
        [
         "std",
         "846760.940315889"
        ],
        [
         "min",
         "0.0"
        ],
        [
         "25%",
         "4728.14"
        ],
        [
         "50%",
         "16768.52"
        ],
        [
         "75%",
         "57428.85"
        ],
        [
         "max",
         "115035495.1"
        ]
       ],
       "shape": {
        "columns": 1,
        "rows": 8
       }
      },
      "text/plain": [
       "count    1.041614e+06\n",
       "mean     1.149986e+05\n",
       "std      8.467609e+05\n",
       "min      0.000000e+00\n",
       "25%      4.728140e+03\n",
       "50%      1.676852e+04\n",
       "75%      5.742885e+04\n",
       "max      1.150355e+08\n",
       "Name: CustAccountBalance, dtype: float64"
      ]
     },
     "execution_count": 26,
     "metadata": {},
     "output_type": "execute_result"
    }
   ],
   "source": [
    "df['CustAccountBalance'].describe()  # Get descriptive statistics for CustAccountBalance"
   ]
  },
  {
   "cell_type": "code",
   "execution_count": 27,
   "id": "7280ebec",
   "metadata": {},
   "outputs": [
    {
     "data": {
      "application/vnd.microsoft.datawrangler.viewer.v0+json": {
       "columns": [
        {
         "name": "index",
         "rawType": "int64",
         "type": "integer"
        },
        {
         "name": "CustAccountBalance",
         "rawType": "float64",
         "type": "float"
        }
       ],
       "ref": "afc591d7-0b18-4a2d-800d-01562671977f",
       "rows": [
        [
         "133809",
         "0.0"
        ],
        [
         "1017262",
         "0.0"
        ],
        [
         "665191",
         "0.0"
        ],
        [
         "631012",
         "0.0"
        ],
        [
         "242176",
         "0.0"
        ],
        [
         "502319",
         "0.0"
        ],
        [
         "738753",
         "0.0"
        ],
        [
         "893796",
         "0.0"
        ],
        [
         "63781",
         "0.0"
        ],
        [
         "1000079",
         "0.0"
        ],
        [
         "417194",
         "0.0"
        ],
        [
         "536575",
         "0.0"
        ],
        [
         "161598",
         "0.0"
        ],
        [
         "242018",
         "0.0"
        ],
        [
         "397295",
         "0.0"
        ],
        [
         "161538",
         "0.0"
        ],
        [
         "565808",
         "0.0"
        ],
        [
         "38937",
         "0.0"
        ],
        [
         "866116",
         "0.0"
        ],
        [
         "417296",
         "0.0"
        ],
        [
         "630990",
         "0.0"
        ],
        [
         "363005",
         "0.0"
        ],
        [
         "630814",
         "0.0"
        ],
        [
         "794720",
         "0.0"
        ],
        [
         "502475",
         "0.0"
        ],
        [
         "161953",
         "0.0"
        ],
        [
         "82088",
         "0.0"
        ],
        [
         "696482",
         "0.0"
        ],
        [
         "362892",
         "0.0"
        ],
        [
         "39032",
         "0.0"
        ],
        [
         "966204",
         "0.0"
        ],
        [
         "448035",
         "0.0"
        ],
        [
         "1005133",
         "0.0"
        ],
        [
         "48524",
         "0.0"
        ],
        [
         "161853",
         "0.0"
        ],
        [
         "230355",
         "0.0"
        ],
        [
         "362765",
         "0.0"
        ],
        [
         "362711",
         "0.0"
        ],
        [
         "417077",
         "0.0"
        ],
        [
         "22807",
         "0.0"
        ],
        [
         "647904",
         "0.0"
        ],
        [
         "161464",
         "0.0"
        ],
        [
         "82436",
         "0.0"
        ],
        [
         "600626",
         "0.0"
        ],
        [
         "1010130",
         "0.0"
        ],
        [
         "161026",
         "0.0"
        ],
        [
         "303249",
         "0.0"
        ],
        [
         "696761",
         "0.0"
        ],
        [
         "940082",
         "0.0"
        ],
        [
         "161055",
         "0.0"
        ]
       ],
       "shape": {
        "columns": 1,
        "rows": 1041614
       }
      },
      "text/plain": [
       "133809             0.0\n",
       "1017262            0.0\n",
       "665191             0.0\n",
       "631012             0.0\n",
       "242176             0.0\n",
       "              ...     \n",
       "995329     115035495.1\n",
       "40727      115035495.1\n",
       "994478     115035495.1\n",
       "829903     115035495.1\n",
       "873636     115035495.1\n",
       "Name: CustAccountBalance, Length: 1041614, dtype: float64"
      ]
     },
     "execution_count": 27,
     "metadata": {},
     "output_type": "execute_result"
    }
   ],
   "source": [
    "df['CustAccountBalance'].sort_values(ascending=True)  # Sort account balances to identify outliers"
   ]
  },
  {
   "cell_type": "markdown",
   "id": "7f76f07a",
   "metadata": {},
   "source": [
    "### Transaction Amounts Analysis"
   ]
  },
  {
   "cell_type": "code",
   "execution_count": 28,
   "id": "d614e53b",
   "metadata": {},
   "outputs": [
    {
     "data": {
      "application/vnd.microsoft.datawrangler.viewer.v0+json": {
       "columns": [
        {
         "name": "index",
         "rawType": "object",
         "type": "string"
        },
        {
         "name": "TransactionAmount (INR)",
         "rawType": "float64",
         "type": "float"
        }
       ],
       "ref": "3a47dc3d-9671-409b-8fe6-5e55388a5a4b",
       "rows": [
        [
         "count",
         "1041614.0"
        ],
        [
         "mean",
         "1566.0960794689786"
        ],
        [
         "std",
         "6561.46437328544"
        ],
        [
         "min",
         "0.0"
        ],
        [
         "25%",
         "160.0"
        ],
        [
         "50%",
         "457.5"
        ],
        [
         "75%",
         "1200.0"
        ],
        [
         "max",
         "1560034.99"
        ]
       ],
       "shape": {
        "columns": 1,
        "rows": 8
       }
      },
      "text/plain": [
       "count    1.041614e+06\n",
       "mean     1.566096e+03\n",
       "std      6.561464e+03\n",
       "min      0.000000e+00\n",
       "25%      1.600000e+02\n",
       "50%      4.575000e+02\n",
       "75%      1.200000e+03\n",
       "max      1.560035e+06\n",
       "Name: TransactionAmount (INR), dtype: float64"
      ]
     },
     "execution_count": 28,
     "metadata": {},
     "output_type": "execute_result"
    }
   ],
   "source": [
    "df['TransactionAmount (INR)'].describe()  # Get descriptive statistics for TransactionAmount"
   ]
  },
  {
   "cell_type": "code",
   "execution_count": 29,
   "id": "c1196d63",
   "metadata": {},
   "outputs": [
    {
     "data": {
      "application/vnd.microsoft.datawrangler.viewer.v0+json": {
       "columns": [
        {
         "name": "index",
         "rawType": "int64",
         "type": "integer"
        },
        {
         "name": "TransactionAmount (INR)",
         "rawType": "float64",
         "type": "float"
        }
       ],
       "ref": "644f3502-932d-4da4-ac94-81d5e0a32efb",
       "rows": [
        [
         "308944",
         "0.0"
        ],
        [
         "746400",
         "0.0"
        ],
        [
         "746393",
         "0.0"
        ],
        [
         "684462",
         "0.0"
        ],
        [
         "746124",
         "0.0"
        ],
        [
         "955640",
         "0.0"
        ],
        [
         "567751",
         "0.0"
        ],
        [
         "901206",
         "0.0"
        ],
        [
         "273367",
         "0.0"
        ],
        [
         "478005",
         "0.0"
        ],
        [
         "685022",
         "0.0"
        ],
        [
         "900973",
         "0.0"
        ],
        [
         "745881",
         "0.0"
        ],
        [
         "745793",
         "0.0"
        ],
        [
         "745650",
         "0.0"
        ],
        [
         "745644",
         "0.0"
        ],
        [
         "745401",
         "0.0"
        ],
        [
         "82838",
         "0.0"
        ],
        [
         "746404",
         "0.0"
        ],
        [
         "1000371",
         "0.0"
        ],
        [
         "746423",
         "0.0"
        ],
        [
         "746425",
         "0.0"
        ],
        [
         "747698",
         "0.0"
        ],
        [
         "832239",
         "0.0"
        ],
        [
         "682941",
         "0.0"
        ],
        [
         "902675",
         "0.0"
        ],
        [
         "902651",
         "0.0"
        ],
        [
         "975027",
         "0.0"
        ],
        [
         "475358",
         "0.0"
        ],
        [
         "832752",
         "0.0"
        ],
        [
         "832942",
         "0.0"
        ],
        [
         "954875",
         "0.0"
        ],
        [
         "405675",
         "0.0"
        ],
        [
         "205982",
         "0.0"
        ],
        [
         "169315",
         "0.0"
        ],
        [
         "834092",
         "0.0"
        ],
        [
         "122457",
         "0.0"
        ],
        [
         "746672",
         "0.0"
        ],
        [
         "992323",
         "0.0"
        ],
        [
         "746424",
         "0.0"
        ],
        [
         "745261",
         "0.0"
        ],
        [
         "900617",
         "0.0"
        ],
        [
         "479019",
         "0.0"
        ],
        [
         "899113",
         "0.0"
        ],
        [
         "24818",
         "0.0"
        ],
        [
         "839875",
         "0.0"
        ],
        [
         "325929",
         "0.0"
        ],
        [
         "119369",
         "0.0"
        ],
        [
         "171477",
         "0.0"
        ],
        [
         "742742",
         "0.0"
        ]
       ],
       "shape": {
        "columns": 1,
        "rows": 1041614
       }
      },
      "text/plain": [
       "308944          0.00\n",
       "746400          0.00\n",
       "746393          0.00\n",
       "684462          0.00\n",
       "746124          0.00\n",
       "             ...    \n",
       "56155      720001.16\n",
       "744124     724122.00\n",
       "528263     991132.22\n",
       "574916    1380002.88\n",
       "396280    1560034.99\n",
       "Name: TransactionAmount (INR), Length: 1041614, dtype: float64"
      ]
     },
     "execution_count": 29,
     "metadata": {},
     "output_type": "execute_result"
    }
   ],
   "source": [
    "df['TransactionAmount (INR)'].sort_values(ascending=True)  # Sort transaction amounts to identify outliers"
   ]
  },
  {
   "cell_type": "code",
   "execution_count": 30,
   "id": "0fd68f9b",
   "metadata": {},
   "outputs": [
    {
     "data": {
      "text/plain": [
       "2612"
      ]
     },
     "execution_count": 30,
     "metadata": {},
     "output_type": "execute_result"
    }
   ],
   "source": [
    "## zero balancee\n",
    "df[df['CustAccountBalance'] == 0] .value_counts().sum( )    # Check for zero balance accounts"
   ]
  },
  {
   "cell_type": "code",
   "execution_count": 31,
   "id": "1514d65b",
   "metadata": {},
   "outputs": [
    {
     "data": {
      "text/plain": [
       "820"
      ]
     },
     "execution_count": 31,
     "metadata": {},
     "output_type": "execute_result"
    }
   ],
   "source": [
    "## zero transaction amounts\n",
    "df[df['TransactionAmount (INR)'] == 0].value_counts().sum()"
   ]
  },
  {
   "cell_type": "code",
   "execution_count": 32,
   "id": "b639bf1b",
   "metadata": {},
   "outputs": [
    {
     "name": "stdout",
     "output_type": "stream",
     "text": [
      "Number of customers with zero account balance and zero transaction amount: 4\n"
     ]
    }
   ],
   "source": [
    "##lets see how many customers have transaction amount of 0 and have account balance of 0\n",
    "zero_balance_zero_txn = df[(df['CustAccountBalance'] == 0) & (df['TransactionAmount (INR)'] == 0)]\n",
    "print(f\"Number of customers with zero account balance and zero transaction amount: {len(zero_balance_zero_txn)}\")   "
   ]
  },
  {
   "cell_type": "markdown",
   "id": "662bdd99",
   "metadata": {},
   "source": [
    "Issue: 820 customers have zero transaction amounts (failed/reversed transactions)\n",
    "Decision: Drop all customers with TransactionAmount = 0\n",
    "Logic: Zero transactions don't represent actual spending behavior and will skew RFM segments\n",
    "Keep: Customers with zero balance but positive transactions (still actively spending)"
   ]
  },
  {
   "cell_type": "code",
   "execution_count": 33,
   "id": "1dfce844",
   "metadata": {},
   "outputs": [],
   "source": [
    "df.drop(df[(df['CustAccountBalance'] == 0) & (df['TransactionAmount (INR)'] == 0)].index, inplace=True)"
   ]
  },
  {
   "cell_type": "code",
   "execution_count": 34,
   "id": "2ede1c02",
   "metadata": {},
   "outputs": [
    {
     "name": "stdout",
     "output_type": "stream",
     "text": [
      "Number of customers with zero account balance and zero transaction amount: 0\n"
     ]
    }
   ],
   "source": [
    "##lets see how many customers have transaction amount of 0 and have account balance of 0\n",
    "zero_balance_zero_txn = df[(df['CustAccountBalance'] == 0) & (df['TransactionAmount (INR)'] == 0)]\n",
    "print(f\"Number of customers with zero account balance and zero transaction amount: {len(zero_balance_zero_txn)}\")   "
   ]
  },
  {
   "cell_type": "code",
   "execution_count": 35,
   "id": "a028c95c",
   "metadata": {},
   "outputs": [],
   "source": [
    "df.drop(df[df['TransactionAmount (INR)'] == 0].index, inplace=True)"
   ]
  },
  {
   "cell_type": "code",
   "execution_count": 36,
   "id": "12807e7c",
   "metadata": {},
   "outputs": [
    {
     "data": {
      "text/plain": [
       "0"
      ]
     },
     "execution_count": 36,
     "metadata": {},
     "output_type": "execute_result"
    }
   ],
   "source": [
    "# check again zero transaction amounts\n",
    "df[df['TransactionAmount (INR)'] == 0].value_counts().sum()"
   ]
  },
  {
   "cell_type": "code",
   "execution_count": 37,
   "id": "d34216e2",
   "metadata": {},
   "outputs": [
    {
     "data": {
      "application/vnd.microsoft.datawrangler.viewer.v0+json": {
       "columns": [
        {
         "name": "index",
         "rawType": "int64",
         "type": "integer"
        },
        {
         "name": "TransactionID",
         "rawType": "object",
         "type": "string"
        },
        {
         "name": "CustomerID",
         "rawType": "object",
         "type": "string"
        },
        {
         "name": "CustomerDOB",
         "rawType": "datetime64[ns]",
         "type": "datetime"
        },
        {
         "name": "CustGender",
         "rawType": "object",
         "type": "string"
        },
        {
         "name": "CustLocation",
         "rawType": "object",
         "type": "string"
        },
        {
         "name": "CustAccountBalance",
         "rawType": "float64",
         "type": "float"
        },
        {
         "name": "TransactionDate",
         "rawType": "datetime64[ns]",
         "type": "datetime"
        },
        {
         "name": "TransactionTime",
         "rawType": "int64",
         "type": "integer"
        },
        {
         "name": "TransactionAmount (INR)",
         "rawType": "float64",
         "type": "float"
        },
        {
         "name": "CustomerAge",
         "rawType": "int64",
         "type": "integer"
        },
        {
         "name": "InvalidDOB",
         "rawType": "bool",
         "type": "boolean"
        }
       ],
       "ref": "36c433d6-f0aa-4543-8c55-e410f15ced85",
       "rows": [
        [
         "0",
         "T1",
         "C5841053",
         "1994-01-10 00:00:00",
         "F",
         "JAMSHEDPUR",
         "17819.05",
         "2016-08-02 00:00:00",
         "143207",
         "25.0",
         "22",
         "False"
        ],
        [
         "1",
         "T2",
         "C2142763",
         "1957-04-04 00:00:00",
         "M",
         "JHAJJAR",
         "2270.69",
         "2016-08-02 00:00:00",
         "141858",
         "27999.0",
         "59",
         "True"
        ],
        [
         "2",
         "T3",
         "C4417068",
         "1996-11-26 00:00:00",
         "F",
         "MUMBAI",
         "17874.44",
         "2016-08-02 00:00:00",
         "142712",
         "459.0",
         "20",
         "False"
        ],
        [
         "3",
         "T4",
         "C5342380",
         "1973-09-14 00:00:00",
         "F",
         "MUMBAI",
         "866503.21",
         "2016-08-02 00:00:00",
         "142714",
         "2060.0",
         "43",
         "True"
        ],
        [
         "4",
         "T5",
         "C9031234",
         "1988-03-24 00:00:00",
         "F",
         "NAVI MUMBAI",
         "6714.43",
         "2016-08-02 00:00:00",
         "181156",
         "1762.5",
         "28",
         "False"
        ]
       ],
       "shape": {
        "columns": 11,
        "rows": 5
       }
      },
      "text/html": [
       "<div>\n",
       "<style scoped>\n",
       "    .dataframe tbody tr th:only-of-type {\n",
       "        vertical-align: middle;\n",
       "    }\n",
       "\n",
       "    .dataframe tbody tr th {\n",
       "        vertical-align: top;\n",
       "    }\n",
       "\n",
       "    .dataframe thead th {\n",
       "        text-align: right;\n",
       "    }\n",
       "</style>\n",
       "<table border=\"1\" class=\"dataframe\">\n",
       "  <thead>\n",
       "    <tr style=\"text-align: right;\">\n",
       "      <th></th>\n",
       "      <th>TransactionID</th>\n",
       "      <th>CustomerID</th>\n",
       "      <th>CustomerDOB</th>\n",
       "      <th>CustGender</th>\n",
       "      <th>CustLocation</th>\n",
       "      <th>CustAccountBalance</th>\n",
       "      <th>TransactionDate</th>\n",
       "      <th>TransactionTime</th>\n",
       "      <th>TransactionAmount (INR)</th>\n",
       "      <th>CustomerAge</th>\n",
       "      <th>InvalidDOB</th>\n",
       "    </tr>\n",
       "  </thead>\n",
       "  <tbody>\n",
       "    <tr>\n",
       "      <th>0</th>\n",
       "      <td>T1</td>\n",
       "      <td>C5841053</td>\n",
       "      <td>1994-01-10</td>\n",
       "      <td>F</td>\n",
       "      <td>JAMSHEDPUR</td>\n",
       "      <td>17819.05</td>\n",
       "      <td>2016-08-02</td>\n",
       "      <td>143207</td>\n",
       "      <td>25.0</td>\n",
       "      <td>22</td>\n",
       "      <td>False</td>\n",
       "    </tr>\n",
       "    <tr>\n",
       "      <th>1</th>\n",
       "      <td>T2</td>\n",
       "      <td>C2142763</td>\n",
       "      <td>1957-04-04</td>\n",
       "      <td>M</td>\n",
       "      <td>JHAJJAR</td>\n",
       "      <td>2270.69</td>\n",
       "      <td>2016-08-02</td>\n",
       "      <td>141858</td>\n",
       "      <td>27999.0</td>\n",
       "      <td>59</td>\n",
       "      <td>True</td>\n",
       "    </tr>\n",
       "    <tr>\n",
       "      <th>2</th>\n",
       "      <td>T3</td>\n",
       "      <td>C4417068</td>\n",
       "      <td>1996-11-26</td>\n",
       "      <td>F</td>\n",
       "      <td>MUMBAI</td>\n",
       "      <td>17874.44</td>\n",
       "      <td>2016-08-02</td>\n",
       "      <td>142712</td>\n",
       "      <td>459.0</td>\n",
       "      <td>20</td>\n",
       "      <td>False</td>\n",
       "    </tr>\n",
       "    <tr>\n",
       "      <th>3</th>\n",
       "      <td>T4</td>\n",
       "      <td>C5342380</td>\n",
       "      <td>1973-09-14</td>\n",
       "      <td>F</td>\n",
       "      <td>MUMBAI</td>\n",
       "      <td>866503.21</td>\n",
       "      <td>2016-08-02</td>\n",
       "      <td>142714</td>\n",
       "      <td>2060.0</td>\n",
       "      <td>43</td>\n",
       "      <td>True</td>\n",
       "    </tr>\n",
       "    <tr>\n",
       "      <th>4</th>\n",
       "      <td>T5</td>\n",
       "      <td>C9031234</td>\n",
       "      <td>1988-03-24</td>\n",
       "      <td>F</td>\n",
       "      <td>NAVI MUMBAI</td>\n",
       "      <td>6714.43</td>\n",
       "      <td>2016-08-02</td>\n",
       "      <td>181156</td>\n",
       "      <td>1762.5</td>\n",
       "      <td>28</td>\n",
       "      <td>False</td>\n",
       "    </tr>\n",
       "  </tbody>\n",
       "</table>\n",
       "</div>"
      ],
      "text/plain": [
       "  TransactionID CustomerID CustomerDOB CustGender CustLocation  \\\n",
       "0            T1   C5841053  1994-01-10          F   JAMSHEDPUR   \n",
       "1            T2   C2142763  1957-04-04          M      JHAJJAR   \n",
       "2            T3   C4417068  1996-11-26          F       MUMBAI   \n",
       "3            T4   C5342380  1973-09-14          F       MUMBAI   \n",
       "4            T5   C9031234  1988-03-24          F  NAVI MUMBAI   \n",
       "\n",
       "   CustAccountBalance TransactionDate  TransactionTime  \\\n",
       "0            17819.05      2016-08-02           143207   \n",
       "1             2270.69      2016-08-02           141858   \n",
       "2            17874.44      2016-08-02           142712   \n",
       "3           866503.21      2016-08-02           142714   \n",
       "4             6714.43      2016-08-02           181156   \n",
       "\n",
       "   TransactionAmount (INR)  CustomerAge  InvalidDOB  \n",
       "0                     25.0           22       False  \n",
       "1                  27999.0           59        True  \n",
       "2                    459.0           20       False  \n",
       "3                   2060.0           43        True  \n",
       "4                   1762.5           28       False  "
      ]
     },
     "execution_count": 37,
     "metadata": {},
     "output_type": "execute_result"
    }
   ],
   "source": [
    "df.head()  # Display the first few rows of the DataFrame"
   ]
  },
  {
   "cell_type": "markdown",
   "id": "5cd84c0d",
   "metadata": {},
   "source": [
    "### Exploratory Data Analysis on our cleaned` dataset"
   ]
  },
  {
   "cell_type": "code",
   "execution_count": 38,
   "id": "a917fbc5",
   "metadata": {},
   "outputs": [
    {
     "data": {
      "text/plain": [
       "878763"
      ]
     },
     "execution_count": 38,
     "metadata": {},
     "output_type": "execute_result"
    }
   ],
   "source": [
    "df['CustomerID'].nunique()  # Check the number of unique customers"
   ]
  },
  {
   "cell_type": "code",
   "execution_count": 39,
   "id": "3cc504be",
   "metadata": {},
   "outputs": [
    {
     "data": {
      "text/plain": [
       "(1040794, 11)"
      ]
     },
     "execution_count": 39,
     "metadata": {},
     "output_type": "execute_result"
    }
   ],
   "source": [
    "df.shape  # Get the shape of the DataFrame"
   ]
  },
  {
   "cell_type": "code",
   "execution_count": 40,
   "id": "69313574",
   "metadata": {},
   "outputs": [
    {
     "data": {
      "image/png": "[encoded data removed]",
      "text/plain": [
       "<Figure size 1200x600 with 1 Axes>"
      ]
     },
     "metadata": {},
     "output_type": "display_data"
    }
   ],
   "source": [
    "# plot a distribution for the data across the unique tramsaction dates\n",
    "plt.figure(figsize=(12, 6))\n",
    "sns.histplot(df['TransactionDate'], bins=3, kde=True)\n",
    "plt.title('Distribution of Transaction Dates')\n",
    "plt.xlabel('Transaction Date')\n",
    "plt.ylabel('Frequency') \n",
    "plt.xticks(rotation=45)  # Rotate x-axis labels for better readability\n",
    "plt.grid(True)\n",
    "plt.tight_layout()  # Adjust layout to prevent overlap\n",
    "plt.show()  # Show the plot"
   ]
  },
  {
   "cell_type": "code",
   "execution_count": 41,
   "id": "a5bacd60",
   "metadata": {},
   "outputs": [
    {
     "data": {
      "image/png": "[encoded data removed]",
      "text/plain": [
       "<Figure size 800x600 with 1 Axes>"
      ]
     },
     "metadata": {},
     "output_type": "display_data"
    }
   ],
   "source": [
    "# create a pie chart to visualize the distribution of male customers to female customers\n",
    "plt.figure(figsize=(8, 6))\n",
    "df['CustGender'].value_counts().plot.pie(autopct='%1.1f%%', startangle=180, colors=['#66c2a5', '#fc8d62'])\n",
    "plt.title(\"Pie chart of Gender Distribution\")\n",
    "plt.ylabel('')  # Hide the y-label for better aesthetics\n",
    "plt.axis('equal')  # Equal aspect ratio ensures that pie chart is circular\n",
    "plt.show()  # Show the plot\n",
    "\n",
    "\n",
    "          "
   ]
  },
  {
   "cell_type": "markdown",
   "id": "98003e23",
   "metadata": {},
   "source": [
    "### RFM Analysis — Understanding Customer Value in Retail\n",
    "\n",
    "RFM (Recency, Frequency, Monetary) analysis is a powerful technique used to evaluate customer behavior based on how recently they transacted, how often they transact, and how much they spend. \n",
    "\n",
    "In this section, we will calculate the RFM metrics for each customer, assign scores, and prepare the foundation for effective segmentation and strategy.\n"
   ]
  },
  {
   "cell_type": "markdown",
   "id": "9cd85703",
   "metadata": {},
   "source": [
    "#### Recency"
   ]
  },
  {
   "cell_type": "code",
   "execution_count": 42,
   "id": "d108efa8",
   "metadata": {},
   "outputs": [],
   "source": [
    "rfm_df = df.copy()"
   ]
  },
  {
   "cell_type": "code",
   "execution_count": 43,
   "id": "41510994",
   "metadata": {},
   "outputs": [
    {
     "data": {
      "application/vnd.microsoft.datawrangler.viewer.v0+json": {
       "columns": [
        {
         "name": "index",
         "rawType": "int64",
         "type": "integer"
        },
        {
         "name": "CustomerID",
         "rawType": "object",
         "type": "string"
        },
        {
         "name": "Recency",
         "rawType": "int64",
         "type": "integer"
        }
       ],
       "ref": "8ad83555-ba2b-4f0a-9865-546009f07b6f",
       "rows": [
        [
         "0",
         "C1010011",
         "25"
        ],
        [
         "1",
         "C1010012",
         "68"
        ],
        [
         "2",
         "C1010014",
         "75"
        ],
        [
         "3",
         "C1010018",
         "36"
        ],
        [
         "4",
         "C1010024",
         "64"
        ]
       ],
       "shape": {
        "columns": 2,
        "rows": 5
       }
      },
      "text/html": [
       "<div>\n",
       "<style scoped>\n",
       "    .dataframe tbody tr th:only-of-type {\n",
       "        vertical-align: middle;\n",
       "    }\n",
       "\n",
       "    .dataframe tbody tr th {\n",
       "        vertical-align: top;\n",
       "    }\n",
       "\n",
       "    .dataframe thead th {\n",
       "        text-align: right;\n",
       "    }\n",
       "</style>\n",
       "<table border=\"1\" class=\"dataframe\">\n",
       "  <thead>\n",
       "    <tr style=\"text-align: right;\">\n",
       "      <th></th>\n",
       "      <th>CustomerID</th>\n",
       "      <th>Recency</th>\n",
       "    </tr>\n",
       "  </thead>\n",
       "  <tbody>\n",
       "    <tr>\n",
       "      <th>0</th>\n",
       "      <td>C1010011</td>\n",
       "      <td>25</td>\n",
       "    </tr>\n",
       "    <tr>\n",
       "      <th>1</th>\n",
       "      <td>C1010012</td>\n",
       "      <td>68</td>\n",
       "    </tr>\n",
       "    <tr>\n",
       "      <th>2</th>\n",
       "      <td>C1010014</td>\n",
       "      <td>75</td>\n",
       "    </tr>\n",
       "    <tr>\n",
       "      <th>3</th>\n",
       "      <td>C1010018</td>\n",
       "      <td>36</td>\n",
       "    </tr>\n",
       "    <tr>\n",
       "      <th>4</th>\n",
       "      <td>C1010024</td>\n",
       "      <td>64</td>\n",
       "    </tr>\n",
       "  </tbody>\n",
       "</table>\n",
       "</div>"
      ],
      "text/plain": [
       "  CustomerID  Recency\n",
       "0   C1010011       25\n",
       "1   C1010012       68\n",
       "2   C1010014       75\n",
       "3   C1010018       36\n",
       "4   C1010024       64"
      ]
     },
     "execution_count": 43,
     "metadata": {},
     "output_type": "execute_result"
    }
   ],
   "source": [
    "# Reference date is the most recent transaction\n",
    "reference_date = rfm_df['TransactionDate'].max()\n",
    "\n",
    "# Calculate Recency: number of days since last transaction\n",
    "recency = rfm_df.groupby('CustomerID').agg(\n",
    "    Recency=('TransactionDate', lambda x: (reference_date - x.max()).days)\n",
    ").reset_index()\n",
    "\n",
    "recency.head()\n"
   ]
  },
  {
   "cell_type": "markdown",
   "id": "0a6d1a3f",
   "metadata": {},
   "source": [
    "#### 📅 Recency Calculation\n",
    "Recency measures how recently a customer transacted. It is calculated by subtracting each customer’s most recent transaction date from the latest date in the dataset.\n",
    "\n",
    "We used:\n",
    "- **Reference Date** = most recent transaction date in data\n",
    "- **Recency (in days)** = Reference Date - Customer’s last transaction\n",
    "\n",
    "No +1 was added here, as our goal is to measure true days since last activity.\n"
   ]
  },
  {
   "cell_type": "markdown",
   "id": "c788f2ff",
   "metadata": {},
   "source": [
    "### Frequency: number of transactions per customer"
   ]
  },
  {
   "cell_type": "code",
   "execution_count": 44,
   "id": "7447b0b7",
   "metadata": {},
   "outputs": [
    {
     "data": {
      "application/vnd.microsoft.datawrangler.viewer.v0+json": {
       "columns": [
        {
         "name": "index",
         "rawType": "int64",
         "type": "integer"
        },
        {
         "name": "CustomerID",
         "rawType": "object",
         "type": "string"
        },
        {
         "name": "Frequency",
         "rawType": "int64",
         "type": "integer"
        }
       ],
       "ref": "1880ca13-c074-4f39-b1ea-285d21d23d83",
       "rows": [
        [
         "0",
         "C1010011",
         "2"
        ],
        [
         "1",
         "C1010012",
         "1"
        ],
        [
         "2",
         "C1010014",
         "2"
        ],
        [
         "3",
         "C1010018",
         "1"
        ],
        [
         "4",
         "C1010024",
         "1"
        ]
       ],
       "shape": {
        "columns": 2,
        "rows": 5
       }
      },
      "text/html": [
       "<div>\n",
       "<style scoped>\n",
       "    .dataframe tbody tr th:only-of-type {\n",
       "        vertical-align: middle;\n",
       "    }\n",
       "\n",
       "    .dataframe tbody tr th {\n",
       "        vertical-align: top;\n",
       "    }\n",
       "\n",
       "    .dataframe thead th {\n",
       "        text-align: right;\n",
       "    }\n",
       "</style>\n",
       "<table border=\"1\" class=\"dataframe\">\n",
       "  <thead>\n",
       "    <tr style=\"text-align: right;\">\n",
       "      <th></th>\n",
       "      <th>CustomerID</th>\n",
       "      <th>Frequency</th>\n",
       "    </tr>\n",
       "  </thead>\n",
       "  <tbody>\n",
       "    <tr>\n",
       "      <th>0</th>\n",
       "      <td>C1010011</td>\n",
       "      <td>2</td>\n",
       "    </tr>\n",
       "    <tr>\n",
       "      <th>1</th>\n",
       "      <td>C1010012</td>\n",
       "      <td>1</td>\n",
       "    </tr>\n",
       "    <tr>\n",
       "      <th>2</th>\n",
       "      <td>C1010014</td>\n",
       "      <td>2</td>\n",
       "    </tr>\n",
       "    <tr>\n",
       "      <th>3</th>\n",
       "      <td>C1010018</td>\n",
       "      <td>1</td>\n",
       "    </tr>\n",
       "    <tr>\n",
       "      <th>4</th>\n",
       "      <td>C1010024</td>\n",
       "      <td>1</td>\n",
       "    </tr>\n",
       "  </tbody>\n",
       "</table>\n",
       "</div>"
      ],
      "text/plain": [
       "  CustomerID  Frequency\n",
       "0   C1010011          2\n",
       "1   C1010012          1\n",
       "2   C1010014          2\n",
       "3   C1010018          1\n",
       "4   C1010024          1"
      ]
     },
     "execution_count": 44,
     "metadata": {},
     "output_type": "execute_result"
    }
   ],
   "source": [
    "frequency = rfm_df.groupby(\"CustomerID\").agg(Frequency=('TransactionID', 'nunique')).reset_index()\n",
    "frequency.head()"
   ]
  },
  {
   "cell_type": "markdown",
   "id": "ab0d2d5c",
   "metadata": {},
   "source": [
    "#### 💰 Monetary Value – How Much Do Customers Spend?\n",
    "\n",
    "The **Monetary** component in RFM analysis captures how much revenue each customer brings in.\n",
    "\n",
    "It measures the **total monetary value** of a customer's transactions over the observed period. This helps identify **high-spending** customers who contribute significantly to business revenue.\n",
    "\n",
    "To calculate it, we group all transactions by customer and sum their `TransactionAmount`.\n"
   ]
  },
  {
   "cell_type": "markdown",
   "id": "868e1a6f",
   "metadata": {},
   "source": [
    "### Monetary value: total transaction amount per customer"
   ]
  },
  {
   "cell_type": "code",
   "execution_count": 45,
   "id": "dce38162",
   "metadata": {},
   "outputs": [
    {
     "data": {
      "application/vnd.microsoft.datawrangler.viewer.v0+json": {
       "columns": [
        {
         "name": "index",
         "rawType": "int64",
         "type": "integer"
        },
        {
         "name": "CustomerID",
         "rawType": "object",
         "type": "string"
        },
        {
         "name": "Monetary",
         "rawType": "float64",
         "type": "float"
        }
       ],
       "ref": "b51cd8bd-8e55-4b71-af55-96ab778afcac",
       "rows": [
        [
         "0",
         "C1010011",
         "5106.0"
        ],
        [
         "1",
         "C1010012",
         "1499.0"
        ],
        [
         "2",
         "C1010014",
         "1455.0"
        ],
        [
         "3",
         "C1010018",
         "30.0"
        ],
        [
         "4",
         "C1010024",
         "5000.0"
        ]
       ],
       "shape": {
        "columns": 2,
        "rows": 5
       }
      },
      "text/html": [
       "<div>\n",
       "<style scoped>\n",
       "    .dataframe tbody tr th:only-of-type {\n",
       "        vertical-align: middle;\n",
       "    }\n",
       "\n",
       "    .dataframe tbody tr th {\n",
       "        vertical-align: top;\n",
       "    }\n",
       "\n",
       "    .dataframe thead th {\n",
       "        text-align: right;\n",
       "    }\n",
       "</style>\n",
       "<table border=\"1\" class=\"dataframe\">\n",
       "  <thead>\n",
       "    <tr style=\"text-align: right;\">\n",
       "      <th></th>\n",
       "      <th>CustomerID</th>\n",
       "      <th>Monetary</th>\n",
       "    </tr>\n",
       "  </thead>\n",
       "  <tbody>\n",
       "    <tr>\n",
       "      <th>0</th>\n",
       "      <td>C1010011</td>\n",
       "      <td>5106.0</td>\n",
       "    </tr>\n",
       "    <tr>\n",
       "      <th>1</th>\n",
       "      <td>C1010012</td>\n",
       "      <td>1499.0</td>\n",
       "    </tr>\n",
       "    <tr>\n",
       "      <th>2</th>\n",
       "      <td>C1010014</td>\n",
       "      <td>1455.0</td>\n",
       "    </tr>\n",
       "    <tr>\n",
       "      <th>3</th>\n",
       "      <td>C1010018</td>\n",
       "      <td>30.0</td>\n",
       "    </tr>\n",
       "    <tr>\n",
       "      <th>4</th>\n",
       "      <td>C1010024</td>\n",
       "      <td>5000.0</td>\n",
       "    </tr>\n",
       "  </tbody>\n",
       "</table>\n",
       "</div>"
      ],
      "text/plain": [
       "  CustomerID  Monetary\n",
       "0   C1010011    5106.0\n",
       "1   C1010012    1499.0\n",
       "2   C1010014    1455.0\n",
       "3   C1010018      30.0\n",
       "4   C1010024    5000.0"
      ]
     },
     "execution_count": 45,
     "metadata": {},
     "output_type": "execute_result"
    }
   ],
   "source": [
    "# Calculate Monetary: total transaction amount per customer\n",
    "monetary = rfm_df.groupby(\"CustomerID\").agg(\n",
    "    Monetary=(\"TransactionAmount (INR)\", \"sum\")\n",
    ").reset_index()\n",
    "\n",
    "monetary.head()\n"
   ]
  },
  {
   "cell_type": "markdown",
   "id": "5c9eeaaa",
   "metadata": {},
   "source": [
    "## Create RFM DataFrame by merging Recency, Frequency, and Monetary DataFrames\n"
   ]
  },
  {
   "cell_type": "code",
   "execution_count": 46,
   "id": "eb01cef2",
   "metadata": {},
   "outputs": [
    {
     "data": {
      "application/vnd.microsoft.datawrangler.viewer.v0+json": {
       "columns": [
        {
         "name": "index",
         "rawType": "int64",
         "type": "integer"
        },
        {
         "name": "CustomerID",
         "rawType": "object",
         "type": "string"
        },
        {
         "name": "Recency",
         "rawType": "int64",
         "type": "integer"
        },
        {
         "name": "Frequency",
         "rawType": "int64",
         "type": "integer"
        },
        {
         "name": "Monetary",
         "rawType": "float64",
         "type": "float"
        }
       ],
       "ref": "2df8bd5b-8f12-40cd-8448-d45be2a2d362",
       "rows": [
        [
         "0",
         "C1010011",
         "25",
         "2",
         "5106.0"
        ],
        [
         "1",
         "C1010012",
         "68",
         "1",
         "1499.0"
        ],
        [
         "2",
         "C1010014",
         "75",
         "2",
         "1455.0"
        ],
        [
         "3",
         "C1010018",
         "36",
         "1",
         "30.0"
        ],
        [
         "4",
         "C1010024",
         "64",
         "1",
         "5000.0"
        ]
       ],
       "shape": {
        "columns": 4,
        "rows": 5
       }
      },
      "text/html": [
       "<div>\n",
       "<style scoped>\n",
       "    .dataframe tbody tr th:only-of-type {\n",
       "        vertical-align: middle;\n",
       "    }\n",
       "\n",
       "    .dataframe tbody tr th {\n",
       "        vertical-align: top;\n",
       "    }\n",
       "\n",
       "    .dataframe thead th {\n",
       "        text-align: right;\n",
       "    }\n",
       "</style>\n",
       "<table border=\"1\" class=\"dataframe\">\n",
       "  <thead>\n",
       "    <tr style=\"text-align: right;\">\n",
       "      <th></th>\n",
       "      <th>CustomerID</th>\n",
       "      <th>Recency</th>\n",
       "      <th>Frequency</th>\n",
       "      <th>Monetary</th>\n",
       "    </tr>\n",
       "  </thead>\n",
       "  <tbody>\n",
       "    <tr>\n",
       "      <th>0</th>\n",
       "      <td>C1010011</td>\n",
       "      <td>25</td>\n",
       "      <td>2</td>\n",
       "      <td>5106.0</td>\n",
       "    </tr>\n",
       "    <tr>\n",
       "      <th>1</th>\n",
       "      <td>C1010012</td>\n",
       "      <td>68</td>\n",
       "      <td>1</td>\n",
       "      <td>1499.0</td>\n",
       "    </tr>\n",
       "    <tr>\n",
       "      <th>2</th>\n",
       "      <td>C1010014</td>\n",
       "      <td>75</td>\n",
       "      <td>2</td>\n",
       "      <td>1455.0</td>\n",
       "    </tr>\n",
       "    <tr>\n",
       "      <th>3</th>\n",
       "      <td>C1010018</td>\n",
       "      <td>36</td>\n",
       "      <td>1</td>\n",
       "      <td>30.0</td>\n",
       "    </tr>\n",
       "    <tr>\n",
       "      <th>4</th>\n",
       "      <td>C1010024</td>\n",
       "      <td>64</td>\n",
       "      <td>1</td>\n",
       "      <td>5000.0</td>\n",
       "    </tr>\n",
       "  </tbody>\n",
       "</table>\n",
       "</div>"
      ],
      "text/plain": [
       "  CustomerID  Recency  Frequency  Monetary\n",
       "0   C1010011       25          2    5106.0\n",
       "1   C1010012       68          1    1499.0\n",
       "2   C1010014       75          2    1455.0\n",
       "3   C1010018       36          1      30.0\n",
       "4   C1010024       64          1    5000.0"
      ]
     },
     "execution_count": 46,
     "metadata": {},
     "output_type": "execute_result"
    }
   ],
   "source": [
    "RFM_Table = pd.concat([recency, frequency['Frequency'], monetary['Monetary']], axis=1)\n",
    "RFM_Table.head()  # Display the first few rows of the RFM table"
   ]
  },
  {
   "cell_type": "code",
   "execution_count": 47,
   "id": "e7daa26b",
   "metadata": {},
   "outputs": [
    {
     "data": {
      "image/png": "[encoded data removed]",
      "text/plain": [
       "<Figure size 1800x600 with 3 Axes>"
      ]
     },
     "metadata": {},
     "output_type": "display_data"
    }
   ],
   "source": [
    "fig, axes = plt.subplots(1, 3, figsize=(18, 6))  # Changed 'axis' to 'axes'\n",
    "\n",
    "columns = ['Recency', 'Frequency', 'Monetary']  \n",
    "\n",
    "for i, col in enumerate(columns):     \n",
    "    sns.histplot(RFM_Table[col], bins=30, color='blue', edgecolor='black', ax=axes[i])  # Changed 'axis' to 'axes'\n",
    "    axes[i].set_title(f'Distribution of {col}')     \n",
    "    axes[i].set_xlabel(\"Days\" if col == 'Recency' else \"Count\" if col == 'Frequency' else \"Amount (INR)\")     \n",
    "    axes[i].set_ylabel('Frequency')  # Changed from col to 'Frequency' (y-axis shows frequency/count)\n",
    "    axes[i].grid(True) \n",
    "\n",
    "plt.tight_layout()  # Adjust layout to prevent overlap \n",
    "plt.show()  # Show the plots"
   ]
  },
  {
   "cell_type": "code",
   "execution_count": 48,
   "id": "75a9fa64",
   "metadata": {},
   "outputs": [
    {
     "data": {
      "image/png": "[encoded data removed]",
      "text/plain": [
       "<Figure size 1000x600 with 1 Axes>"
      ]
     },
     "metadata": {},
     "output_type": "display_data"
    }
   ],
   "source": [
    "plt.figure(figsize=(10, 6)) \n",
    "plt.hist(RFM_Table[\"Monetary\"], bins=np.logspace(0, 5, 20), color='blue', edgecolor='black') \n",
    "plt.xscale('log')  # Use logarithmic scale for better visibility \n",
    "plt.title('Distribution of Monetary Values')     \n",
    "plt.xlabel('Log Scale - Monetary Value (INR)')  # Fixed semicolon\n",
    "plt.ylabel('Frequency') \n",
    "plt.grid(True) \n",
    "plt.tight_layout()  # Adjust layout to prevent overlap \n",
    "plt.show()  # Show the plot"
   ]
  },
  {
   "cell_type": "code",
   "execution_count": 49,
   "id": "651a5a6e",
   "metadata": {},
   "outputs": [
    {
     "data": {
      "image/png": "[encoded data removed]",
      "text/plain": [
       "<Figure size 1000x600 with 1 Axes>"
      ]
     },
     "metadata": {},
     "output_type": "display_data"
    }
   ],
   "source": [
    "plt.figure(figsize=(10, 6))\n",
    "sns.scatterplot(data=RFM_Table, x='Recency', y='Monetary', hue='Frequency', palette='viridis', size='Frequency', sizes=(20, 200), alpha=0.7)\n",
    "plt.title('Recency vs Monetary with Frequency as Size') \n",
    "plt.xlabel('Recency (Days since last transaction)')\n",
    "plt.ylabel('Monetary (Total Transaction Amount in INR)')\n",
    "plt.legend(title='Frequency', bbox_to_anchor=(1.05, 1), loc='upper left')\n",
    "plt.grid(True)\n",
    "plt.tight_layout()  # Adjust layout to prevent overlap\n",
    "plt.show()  # Show the plot\n"
   ]
  },
  {
   "cell_type": "markdown",
   "id": "16c82800",
   "metadata": {},
   "source": [
    "### Key Insights from RFM Distribution Analysis\n",
    "\n",
    "#### Histograms of Recency, Frequency, Monetary\n",
    "- Recency: Right-skewed, most users made purchases ~30–75 days ago. Very few are very recent.\n",
    "\n",
    "- Frequency: Very right-skewed. Most customers purchased only once.\n",
    "\n",
    "- Monetary: Extremely skewed; most spend very little, few spend a lot. Hence the need for a log plot.\n",
    "\n",
    "#### Monetary Log Scale\n",
    "\n",
    "- Peak around ₹100-1000 range (most common transaction amounts)\n",
    "You can now see the actual spread among low and mid-value spenders.Still confirms that a small number of customers generate high revenue.\n",
    "\n",
    "#### Recency vs Monetary Scatter\n",
    "\n",
    "- A majority of customers cluster around:\n",
    "\n",
    "        - High recency (i.e., long ago)\n",
    "\n",
    "        - Low monetary\n",
    "\n",
    "        - Low frequency\n",
    "\n",
    "- A few valuable outliers are visible (large circles, low recency, high monetary).\n",
    "\n",
    "Business Implications:\n",
    "\n",
    "Customer retention crisis: 85%+ are one-time buyers\n",
    "Value concentration: Few customers drive most revenue\n",
    "Recency matters: Recent customers are your highest value segments"
   ]
  },
  {
   "cell_type": "code",
   "execution_count": 50,
   "id": "f6388ad9",
   "metadata": {},
   "outputs": [
    {
     "name": "stderr",
     "output_type": "stream",
     "text": [
      "C:\\Users\\pascal\\AppData\\Local\\Temp\\ipykernel_10032\\3915406345.py:1: FutureWarning: The default value of numeric_only in DataFrame.corr is deprecated. In a future version, it will default to False. Select only valid columns or specify the value of numeric_only to silence this warning.\n",
      "  RFM_Table.corr()  # Check the correlation between RFM variables\n"
     ]
    },
    {
     "data": {
      "application/vnd.microsoft.datawrangler.viewer.v0+json": {
       "columns": [
        {
         "name": "index",
         "rawType": "object",
         "type": "string"
        },
        {
         "name": "Recency",
         "rawType": "float64",
         "type": "float"
        },
        {
         "name": "Frequency",
         "rawType": "float64",
         "type": "float"
        },
        {
         "name": "Monetary",
         "rawType": "float64",
         "type": "float"
        }
       ],
       "ref": "4491d3a5-46f7-4f91-aa23-231cd2e0c458",
       "rows": [
        [
         "Recency",
         "1.0",
         "-0.22329293018446997",
         "-0.02067484137569215"
        ],
        [
         "Frequency",
         "-0.22329293018446997",
         "1.0",
         "0.09749108809782632"
        ],
        [
         "Monetary",
         "-0.02067484137569215",
         "0.09749108809782632",
         "1.0"
        ]
       ],
       "shape": {
        "columns": 3,
        "rows": 3
       }
      },
      "text/html": [
       "<div>\n",
       "<style scoped>\n",
       "    .dataframe tbody tr th:only-of-type {\n",
       "        vertical-align: middle;\n",
       "    }\n",
       "\n",
       "    .dataframe tbody tr th {\n",
       "        vertical-align: top;\n",
       "    }\n",
       "\n",
       "    .dataframe thead th {\n",
       "        text-align: right;\n",
       "    }\n",
       "</style>\n",
       "<table border=\"1\" class=\"dataframe\">\n",
       "  <thead>\n",
       "    <tr style=\"text-align: right;\">\n",
       "      <th></th>\n",
       "      <th>Recency</th>\n",
       "      <th>Frequency</th>\n",
       "      <th>Monetary</th>\n",
       "    </tr>\n",
       "  </thead>\n",
       "  <tbody>\n",
       "    <tr>\n",
       "      <th>Recency</th>\n",
       "      <td>1.000000</td>\n",
       "      <td>-0.223293</td>\n",
       "      <td>-0.020675</td>\n",
       "    </tr>\n",
       "    <tr>\n",
       "      <th>Frequency</th>\n",
       "      <td>-0.223293</td>\n",
       "      <td>1.000000</td>\n",
       "      <td>0.097491</td>\n",
       "    </tr>\n",
       "    <tr>\n",
       "      <th>Monetary</th>\n",
       "      <td>-0.020675</td>\n",
       "      <td>0.097491</td>\n",
       "      <td>1.000000</td>\n",
       "    </tr>\n",
       "  </tbody>\n",
       "</table>\n",
       "</div>"
      ],
      "text/plain": [
       "            Recency  Frequency  Monetary\n",
       "Recency    1.000000  -0.223293 -0.020675\n",
       "Frequency -0.223293   1.000000  0.097491\n",
       "Monetary  -0.020675   0.097491  1.000000"
      ]
     },
     "execution_count": 50,
     "metadata": {},
     "output_type": "execute_result"
    }
   ],
   "source": [
    "RFM_Table.corr()  # Check the correlation between RFM variables"
   ]
  },
  {
   "cell_type": "markdown",
   "id": "a3943287",
   "metadata": {},
   "source": [
    "- Recency is negatively correlated with Frequency and Monetary (as expected: more recent = more engaged = more purchases).\n",
    "\n",
    "- Frequency and Monetary have a very weak positive correlation, indicating that some repeat buyers still spend little, this is common in mass-market businesses."
   ]
  },
  {
   "cell_type": "markdown",
   "id": "1796e4c4",
   "metadata": {},
   "source": [
    "### Define RFM Scoring using Quantiles\n",
    "\n",
    "- Assigns scores from 1 to 5 for each customer based on Recency, Frequency, and Monetary values. Lower recency gets a higher score (recent buyer), while higher frequency and monetary values also get higher scores. This normalizes the data for fair comparison."
   ]
  },
  {
   "cell_type": "code",
   "execution_count": 51,
   "id": "19653cce",
   "metadata": {},
   "outputs": [],
   "source": [
    "# Define RFM scoring using quantiles\n",
    "r_labels = range(5, 0, -1)  # Lower recency = higher score\n",
    "f_labels = range(1, 6)\n",
    "m_labels = range(1, 6)\n",
    "\n",
    "RFM_Table['R_Score'] = pd.qcut(RFM_Table['Recency'], 5, labels=r_labels)\n",
    "RFM_Table['F_Score'] = pd.qcut(RFM_Table['Frequency'].rank(method='first'), 5, labels=f_labels)\n",
    "RFM_Table['M_Score'] = pd.qcut(RFM_Table['Monetary'].rank(method='first'), 5, labels=m_labels)\n"
   ]
  },
  {
   "cell_type": "markdown",
   "id": "73a3ca89",
   "metadata": {},
   "source": [
    "### Generate Combined RFM Score\n",
    "- Creates a single RFM score by concatenating the individual Recency, Frequency, and Monetary scores. This forms a 3-digit code representing overall customer behavior."
   ]
  },
  {
   "cell_type": "code",
   "execution_count": 52,
   "id": "b2934e6d",
   "metadata": {},
   "outputs": [],
   "source": [
    "RFM_Table['RFM_Score'] = (\n",
    "    RFM_Table['R_Score'].astype(str) +\n",
    "    RFM_Table['F_Score'].astype(str) +\n",
    "    RFM_Table['M_Score'].astype(str)\n",
    ")\n"
   ]
  },
  {
   "cell_type": "code",
   "execution_count": 53,
   "id": "73d59ec9",
   "metadata": {},
   "outputs": [
    {
     "name": "stdout",
     "output_type": "stream",
     "text": [
      "RFM Table with Scores:\n"
     ]
    },
    {
     "data": {
      "application/vnd.microsoft.datawrangler.viewer.v0+json": {
       "columns": [
        {
         "name": "index",
         "rawType": "int64",
         "type": "integer"
        },
        {
         "name": "CustomerID",
         "rawType": "object",
         "type": "string"
        },
        {
         "name": "Recency",
         "rawType": "int64",
         "type": "integer"
        },
        {
         "name": "Frequency",
         "rawType": "int64",
         "type": "integer"
        },
        {
         "name": "Monetary",
         "rawType": "float64",
         "type": "float"
        },
        {
         "name": "R_Score",
         "rawType": "category",
         "type": "unknown"
        },
        {
         "name": "F_Score",
         "rawType": "category",
         "type": "unknown"
        },
        {
         "name": "M_Score",
         "rawType": "category",
         "type": "unknown"
        },
        {
         "name": "RFM_Score",
         "rawType": "object",
         "type": "string"
        }
       ],
       "ref": "db800d42-8791-4cb5-80a7-bef6af7a6887",
       "rows": [
        [
         "0",
         "C1010011",
         "25",
         "2",
         "5106.0",
         "5",
         "5",
         "5",
         "555"
        ],
        [
         "1",
         "C1010012",
         "68",
         "1",
         "1499.0",
         "2",
         "1",
         "4",
         "214"
        ],
        [
         "2",
         "C1010014",
         "75",
         "2",
         "1455.0",
         "1",
         "5",
         "4",
         "154"
        ],
        [
         "3",
         "C1010018",
         "36",
         "1",
         "30.0",
         "5",
         "1",
         "1",
         "511"
        ],
        [
         "4",
         "C1010024",
         "64",
         "1",
         "5000.0",
         "2",
         "1",
         "5",
         "215"
        ],
        [
         "5",
         "C1010028",
         "53",
         "1",
         "557.0",
         "3",
         "1",
         "3",
         "313"
        ],
        [
         "6",
         "C1010031",
         "78",
         "2",
         "1864.0",
         "1",
         "5",
         "4",
         "154"
        ],
        [
         "7",
         "C1010035",
         "55",
         "2",
         "750.0",
         "3",
         "5",
         "3",
         "353"
        ],
        [
         "8",
         "C1010036",
         "56",
         "1",
         "208.0",
         "3",
         "1",
         "2",
         "312"
        ],
        [
         "9",
         "C1010037",
         "73",
         "1",
         "19680.0",
         "1",
         "1",
         "5",
         "115"
        ]
       ],
       "shape": {
        "columns": 8,
        "rows": 10
       }
      },
      "text/html": [
       "<div>\n",
       "<style scoped>\n",
       "    .dataframe tbody tr th:only-of-type {\n",
       "        vertical-align: middle;\n",
       "    }\n",
       "\n",
       "    .dataframe tbody tr th {\n",
       "        vertical-align: top;\n",
       "    }\n",
       "\n",
       "    .dataframe thead th {\n",
       "        text-align: right;\n",
       "    }\n",
       "</style>\n",
       "<table border=\"1\" class=\"dataframe\">\n",
       "  <thead>\n",
       "    <tr style=\"text-align: right;\">\n",
       "      <th></th>\n",
       "      <th>CustomerID</th>\n",
       "      <th>Recency</th>\n",
       "      <th>Frequency</th>\n",
       "      <th>Monetary</th>\n",
       "      <th>R_Score</th>\n",
       "      <th>F_Score</th>\n",
       "      <th>M_Score</th>\n",
       "      <th>RFM_Score</th>\n",
       "    </tr>\n",
       "  </thead>\n",
       "  <tbody>\n",
       "    <tr>\n",
       "      <th>0</th>\n",
       "      <td>C1010011</td>\n",
       "      <td>25</td>\n",
       "      <td>2</td>\n",
       "      <td>5106.0</td>\n",
       "      <td>5</td>\n",
       "      <td>5</td>\n",
       "      <td>5</td>\n",
       "      <td>555</td>\n",
       "    </tr>\n",
       "    <tr>\n",
       "      <th>1</th>\n",
       "      <td>C1010012</td>\n",
       "      <td>68</td>\n",
       "      <td>1</td>\n",
       "      <td>1499.0</td>\n",
       "      <td>2</td>\n",
       "      <td>1</td>\n",
       "      <td>4</td>\n",
       "      <td>214</td>\n",
       "    </tr>\n",
       "    <tr>\n",
       "      <th>2</th>\n",
       "      <td>C1010014</td>\n",
       "      <td>75</td>\n",
       "      <td>2</td>\n",
       "      <td>1455.0</td>\n",
       "      <td>1</td>\n",
       "      <td>5</td>\n",
       "      <td>4</td>\n",
       "      <td>154</td>\n",
       "    </tr>\n",
       "    <tr>\n",
       "      <th>3</th>\n",
       "      <td>C1010018</td>\n",
       "      <td>36</td>\n",
       "      <td>1</td>\n",
       "      <td>30.0</td>\n",
       "      <td>5</td>\n",
       "      <td>1</td>\n",
       "      <td>1</td>\n",
       "      <td>511</td>\n",
       "    </tr>\n",
       "    <tr>\n",
       "      <th>4</th>\n",
       "      <td>C1010024</td>\n",
       "      <td>64</td>\n",
       "      <td>1</td>\n",
       "      <td>5000.0</td>\n",
       "      <td>2</td>\n",
       "      <td>1</td>\n",
       "      <td>5</td>\n",
       "      <td>215</td>\n",
       "    </tr>\n",
       "    <tr>\n",
       "      <th>5</th>\n",
       "      <td>C1010028</td>\n",
       "      <td>53</td>\n",
       "      <td>1</td>\n",
       "      <td>557.0</td>\n",
       "      <td>3</td>\n",
       "      <td>1</td>\n",
       "      <td>3</td>\n",
       "      <td>313</td>\n",
       "    </tr>\n",
       "    <tr>\n",
       "      <th>6</th>\n",
       "      <td>C1010031</td>\n",
       "      <td>78</td>\n",
       "      <td>2</td>\n",
       "      <td>1864.0</td>\n",
       "      <td>1</td>\n",
       "      <td>5</td>\n",
       "      <td>4</td>\n",
       "      <td>154</td>\n",
       "    </tr>\n",
       "    <tr>\n",
       "      <th>7</th>\n",
       "      <td>C1010035</td>\n",
       "      <td>55</td>\n",
       "      <td>2</td>\n",
       "      <td>750.0</td>\n",
       "      <td>3</td>\n",
       "      <td>5</td>\n",
       "      <td>3</td>\n",
       "      <td>353</td>\n",
       "    </tr>\n",
       "    <tr>\n",
       "      <th>8</th>\n",
       "      <td>C1010036</td>\n",
       "      <td>56</td>\n",
       "      <td>1</td>\n",
       "      <td>208.0</td>\n",
       "      <td>3</td>\n",
       "      <td>1</td>\n",
       "      <td>2</td>\n",
       "      <td>312</td>\n",
       "    </tr>\n",
       "    <tr>\n",
       "      <th>9</th>\n",
       "      <td>C1010037</td>\n",
       "      <td>73</td>\n",
       "      <td>1</td>\n",
       "      <td>19680.0</td>\n",
       "      <td>1</td>\n",
       "      <td>1</td>\n",
       "      <td>5</td>\n",
       "      <td>115</td>\n",
       "    </tr>\n",
       "  </tbody>\n",
       "</table>\n",
       "</div>"
      ],
      "text/plain": [
       "  CustomerID  Recency  Frequency  Monetary R_Score F_Score M_Score RFM_Score\n",
       "0   C1010011       25          2    5106.0       5       5       5       555\n",
       "1   C1010012       68          1    1499.0       2       1       4       214\n",
       "2   C1010014       75          2    1455.0       1       5       4       154\n",
       "3   C1010018       36          1      30.0       5       1       1       511\n",
       "4   C1010024       64          1    5000.0       2       1       5       215\n",
       "5   C1010028       53          1     557.0       3       1       3       313\n",
       "6   C1010031       78          2    1864.0       1       5       4       154\n",
       "7   C1010035       55          2     750.0       3       5       3       353\n",
       "8   C1010036       56          1     208.0       3       1       2       312\n",
       "9   C1010037       73          1   19680.0       1       1       5       115"
      ]
     },
     "execution_count": 53,
     "metadata": {},
     "output_type": "execute_result"
    }
   ],
   "source": [
    "print(\"RFM Table with Scores:\")\n",
    "RFM_Table.head(10)  # Display the first few rows of the RFM table with scores"
   ]
  },
  {
   "cell_type": "markdown",
   "id": "d21ac838",
   "metadata": {},
   "source": [
    "### Assign Customer Segment\n",
    "\n",
    "- Classifies customers into behavioral segments (e.g., Champions, Loyal, At Risk) based on their RFM score pattern. This enables targeted marketing and retention strategies."
   ]
  },
  {
   "cell_type": "code",
   "execution_count": 54,
   "id": "a65a5d73",
   "metadata": {},
   "outputs": [
    {
     "data": {
      "application/vnd.microsoft.datawrangler.viewer.v0+json": {
       "columns": [
        {
         "name": "index",
         "rawType": "int64",
         "type": "integer"
        },
        {
         "name": "CustomerID",
         "rawType": "object",
         "type": "string"
        },
        {
         "name": "Recency",
         "rawType": "int64",
         "type": "integer"
        },
        {
         "name": "Frequency",
         "rawType": "int64",
         "type": "integer"
        },
        {
         "name": "Monetary",
         "rawType": "float64",
         "type": "float"
        },
        {
         "name": "R_Score",
         "rawType": "category",
         "type": "unknown"
        },
        {
         "name": "F_Score",
         "rawType": "category",
         "type": "unknown"
        },
        {
         "name": "M_Score",
         "rawType": "category",
         "type": "unknown"
        },
        {
         "name": "RFM_Score",
         "rawType": "object",
         "type": "string"
        },
        {
         "name": "Segment",
         "rawType": "object",
         "type": "string"
        }
       ],
       "ref": "9ff29135-82f4-4e99-b952-6cad526551a7",
       "rows": [
        [
         "0",
         "C1010011",
         "25",
         "2",
         "5106.0",
         "5",
         "5",
         "5",
         "555",
         "Champions"
        ],
        [
         "1",
         "C1010012",
         "68",
         "1",
         "1499.0",
         "2",
         "1",
         "4",
         "214",
         "Hibernating"
        ],
        [
         "2",
         "C1010014",
         "75",
         "2",
         "1455.0",
         "1",
         "5",
         "4",
         "154",
         "At Risk"
        ],
        [
         "3",
         "C1010018",
         "36",
         "1",
         "30.0",
         "5",
         "1",
         "1",
         "511",
         "New"
        ],
        [
         "4",
         "C1010024",
         "64",
         "1",
         "5000.0",
         "2",
         "1",
         "5",
         "215",
         "Hibernating"
        ],
        [
         "5",
         "C1010028",
         "53",
         "1",
         "557.0",
         "3",
         "1",
         "3",
         "313",
         "Others"
        ],
        [
         "6",
         "C1010031",
         "78",
         "2",
         "1864.0",
         "1",
         "5",
         "4",
         "154",
         "At Risk"
        ],
        [
         "7",
         "C1010035",
         "55",
         "2",
         "750.0",
         "3",
         "5",
         "3",
         "353",
         "Loyal"
        ],
        [
         "8",
         "C1010036",
         "56",
         "1",
         "208.0",
         "3",
         "1",
         "2",
         "312",
         "Others"
        ],
        [
         "9",
         "C1010037",
         "73",
         "1",
         "19680.0",
         "1",
         "1",
         "5",
         "115",
         "Hibernating"
        ]
       ],
       "shape": {
        "columns": 9,
        "rows": 10
       }
      },
      "text/html": [
       "<div>\n",
       "<style scoped>\n",
       "    .dataframe tbody tr th:only-of-type {\n",
       "        vertical-align: middle;\n",
       "    }\n",
       "\n",
       "    .dataframe tbody tr th {\n",
       "        vertical-align: top;\n",
       "    }\n",
       "\n",
       "    .dataframe thead th {\n",
       "        text-align: right;\n",
       "    }\n",
       "</style>\n",
       "<table border=\"1\" class=\"dataframe\">\n",
       "  <thead>\n",
       "    <tr style=\"text-align: right;\">\n",
       "      <th></th>\n",
       "      <th>CustomerID</th>\n",
       "      <th>Recency</th>\n",
       "      <th>Frequency</th>\n",
       "      <th>Monetary</th>\n",
       "      <th>R_Score</th>\n",
       "      <th>F_Score</th>\n",
       "      <th>M_Score</th>\n",
       "      <th>RFM_Score</th>\n",
       "      <th>Segment</th>\n",
       "    </tr>\n",
       "  </thead>\n",
       "  <tbody>\n",
       "    <tr>\n",
       "      <th>0</th>\n",
       "      <td>C1010011</td>\n",
       "      <td>25</td>\n",
       "      <td>2</td>\n",
       "      <td>5106.0</td>\n",
       "      <td>5</td>\n",
       "      <td>5</td>\n",
       "      <td>5</td>\n",
       "      <td>555</td>\n",
       "      <td>Champions</td>\n",
       "    </tr>\n",
       "    <tr>\n",
       "      <th>1</th>\n",
       "      <td>C1010012</td>\n",
       "      <td>68</td>\n",
       "      <td>1</td>\n",
       "      <td>1499.0</td>\n",
       "      <td>2</td>\n",
       "      <td>1</td>\n",
       "      <td>4</td>\n",
       "      <td>214</td>\n",
       "      <td>Hibernating</td>\n",
       "    </tr>\n",
       "    <tr>\n",
       "      <th>2</th>\n",
       "      <td>C1010014</td>\n",
       "      <td>75</td>\n",
       "      <td>2</td>\n",
       "      <td>1455.0</td>\n",
       "      <td>1</td>\n",
       "      <td>5</td>\n",
       "      <td>4</td>\n",
       "      <td>154</td>\n",
       "      <td>At Risk</td>\n",
       "    </tr>\n",
       "    <tr>\n",
       "      <th>3</th>\n",
       "      <td>C1010018</td>\n",
       "      <td>36</td>\n",
       "      <td>1</td>\n",
       "      <td>30.0</td>\n",
       "      <td>5</td>\n",
       "      <td>1</td>\n",
       "      <td>1</td>\n",
       "      <td>511</td>\n",
       "      <td>New</td>\n",
       "    </tr>\n",
       "    <tr>\n",
       "      <th>4</th>\n",
       "      <td>C1010024</td>\n",
       "      <td>64</td>\n",
       "      <td>1</td>\n",
       "      <td>5000.0</td>\n",
       "      <td>2</td>\n",
       "      <td>1</td>\n",
       "      <td>5</td>\n",
       "      <td>215</td>\n",
       "      <td>Hibernating</td>\n",
       "    </tr>\n",
       "    <tr>\n",
       "      <th>5</th>\n",
       "      <td>C1010028</td>\n",
       "      <td>53</td>\n",
       "      <td>1</td>\n",
       "      <td>557.0</td>\n",
       "      <td>3</td>\n",
       "      <td>1</td>\n",
       "      <td>3</td>\n",
       "      <td>313</td>\n",
       "      <td>Others</td>\n",
       "    </tr>\n",
       "    <tr>\n",
       "      <th>6</th>\n",
       "      <td>C1010031</td>\n",
       "      <td>78</td>\n",
       "      <td>2</td>\n",
       "      <td>1864.0</td>\n",
       "      <td>1</td>\n",
       "      <td>5</td>\n",
       "      <td>4</td>\n",
       "      <td>154</td>\n",
       "      <td>At Risk</td>\n",
       "    </tr>\n",
       "    <tr>\n",
       "      <th>7</th>\n",
       "      <td>C1010035</td>\n",
       "      <td>55</td>\n",
       "      <td>2</td>\n",
       "      <td>750.0</td>\n",
       "      <td>3</td>\n",
       "      <td>5</td>\n",
       "      <td>3</td>\n",
       "      <td>353</td>\n",
       "      <td>Loyal</td>\n",
       "    </tr>\n",
       "    <tr>\n",
       "      <th>8</th>\n",
       "      <td>C1010036</td>\n",
       "      <td>56</td>\n",
       "      <td>1</td>\n",
       "      <td>208.0</td>\n",
       "      <td>3</td>\n",
       "      <td>1</td>\n",
       "      <td>2</td>\n",
       "      <td>312</td>\n",
       "      <td>Others</td>\n",
       "    </tr>\n",
       "    <tr>\n",
       "      <th>9</th>\n",
       "      <td>C1010037</td>\n",
       "      <td>73</td>\n",
       "      <td>1</td>\n",
       "      <td>19680.0</td>\n",
       "      <td>1</td>\n",
       "      <td>1</td>\n",
       "      <td>5</td>\n",
       "      <td>115</td>\n",
       "      <td>Hibernating</td>\n",
       "    </tr>\n",
       "  </tbody>\n",
       "</table>\n",
       "</div>"
      ],
      "text/plain": [
       "  CustomerID  Recency  Frequency  Monetary R_Score F_Score M_Score RFM_Score  \\\n",
       "0   C1010011       25          2    5106.0       5       5       5       555   \n",
       "1   C1010012       68          1    1499.0       2       1       4       214   \n",
       "2   C1010014       75          2    1455.0       1       5       4       154   \n",
       "3   C1010018       36          1      30.0       5       1       1       511   \n",
       "4   C1010024       64          1    5000.0       2       1       5       215   \n",
       "5   C1010028       53          1     557.0       3       1       3       313   \n",
       "6   C1010031       78          2    1864.0       1       5       4       154   \n",
       "7   C1010035       55          2     750.0       3       5       3       353   \n",
       "8   C1010036       56          1     208.0       3       1       2       312   \n",
       "9   C1010037       73          1   19680.0       1       1       5       115   \n",
       "\n",
       "       Segment  \n",
       "0    Champions  \n",
       "1  Hibernating  \n",
       "2      At Risk  \n",
       "3          New  \n",
       "4  Hibernating  \n",
       "5       Others  \n",
       "6      At Risk  \n",
       "7        Loyal  \n",
       "8       Others  \n",
       "9  Hibernating  "
      ]
     },
     "execution_count": 54,
     "metadata": {},
     "output_type": "execute_result"
    }
   ],
   "source": [
    "def assign_segment(row):\n",
    "    r, f, m = int(row['R_Score']), int(row['F_Score']), int(row['M_Score'])\n",
    "    if r >= 4 and f >= 4 and m >= 4:\n",
    "        return 'Champions'\n",
    "    elif r >= 3 and f >= 3:\n",
    "        return 'Loyal'\n",
    "    elif r <= 2 and f >= 3:\n",
    "        return 'At Risk'\n",
    "    elif r <= 2 and f <= 2:\n",
    "        return 'Hibernating'\n",
    "    elif r >= 4 and f == 1:\n",
    "        return 'New'\n",
    "    elif m == 5:\n",
    "        return 'Big Spenders'\n",
    "    else:\n",
    "        return 'Others'\n",
    "\n",
    "RFM_Table['Segment'] = RFM_Table.apply(assign_segment, axis=1)\n",
    "\n",
    "RFM_Table.head(10)\n"
   ]
  },
  {
   "cell_type": "markdown",
   "id": "943d806d",
   "metadata": {},
   "source": [
    "### Segment Performance Overview: segment Customer Behavior, Averages, and Revenue Impact\n",
    "\n",
    "\n",
    "- Aggregates the number of customers, total revenue, average recency, and frequency per segment. Helps in comparing segment performance and identifying which groups drive the most value.\n",
    "\n",
    "- Heatmap Visualizes average recency, frequency, and monetary values per segment\n",
    "\n",
    "- Bar Chart Shows total monetary value by segment\n",
    "\n"
   ]
  },
  {
   "cell_type": "code",
   "execution_count": 55,
   "id": "ae48570a",
   "metadata": {},
   "outputs": [
    {
     "data": {
      "application/vnd.microsoft.datawrangler.viewer.v0+json": {
       "columns": [
        {
         "name": "Segment",
         "rawType": "object",
         "type": "string"
        },
        {
         "name": "CustomerCount",
         "rawType": "int64",
         "type": "integer"
        },
        {
         "name": "AvgMonetary",
         "rawType": "float64",
         "type": "float"
        },
        {
         "name": "TotalMonetary",
         "rawType": "float64",
         "type": "float"
        },
        {
         "name": "AvgRecency",
         "rawType": "float64",
         "type": "float"
        },
        {
         "name": "AvgFrequency",
         "rawType": "float64",
         "type": "float"
        }
       ],
       "ref": "2828bd57-7428-4b38-9879-1743d7aa42cc",
       "rows": [
        [
         "Champions",
         "88856",
         "4523.18",
         "401911631.52",
         "39.9",
         "1.85"
        ],
        [
         "Loyal",
         "251544",
         "1358.23",
         "341655391.58",
         "46.9",
         "1.24"
        ],
        [
         "At Risk",
         "186858",
         "1815.88",
         "339312390.15",
         "71.1",
         "1.13"
        ],
        [
         "Hibernating",
         "148421",
         "1575.62",
         "233855164.04",
         "71.5",
         "1.0"
        ],
        [
         "Big Spenders",
         "21533",
         "7318.97",
         "157599367.84",
         "48.5",
         "1.0"
        ],
        [
         "New",
         "66150",
         "1534.37",
         "101498455.77",
         "40.6",
         "1.0"
        ],
        [
         "Others",
         "115401",
         "480.37",
         "55435200.82",
         "48.6",
         "1.0"
        ]
       ],
       "shape": {
        "columns": 5,
        "rows": 7
       }
      },
      "text/html": [
       "<div>\n",
       "<style scoped>\n",
       "    .dataframe tbody tr th:only-of-type {\n",
       "        vertical-align: middle;\n",
       "    }\n",
       "\n",
       "    .dataframe tbody tr th {\n",
       "        vertical-align: top;\n",
       "    }\n",
       "\n",
       "    .dataframe thead th {\n",
       "        text-align: right;\n",
       "    }\n",
       "</style>\n",
       "<table border=\"1\" class=\"dataframe\">\n",
       "  <thead>\n",
       "    <tr style=\"text-align: right;\">\n",
       "      <th></th>\n",
       "      <th>CustomerCount</th>\n",
       "      <th>AvgMonetary</th>\n",
       "      <th>TotalMonetary</th>\n",
       "      <th>AvgRecency</th>\n",
       "      <th>AvgFrequency</th>\n",
       "    </tr>\n",
       "    <tr>\n",
       "      <th>Segment</th>\n",
       "      <th></th>\n",
       "      <th></th>\n",
       "      <th></th>\n",
       "      <th></th>\n",
       "      <th></th>\n",
       "    </tr>\n",
       "  </thead>\n",
       "  <tbody>\n",
       "    <tr>\n",
       "      <th>Champions</th>\n",
       "      <td>88856</td>\n",
       "      <td>4523.18</td>\n",
       "      <td>4.019116e+08</td>\n",
       "      <td>39.9</td>\n",
       "      <td>1.85</td>\n",
       "    </tr>\n",
       "    <tr>\n",
       "      <th>Loyal</th>\n",
       "      <td>251544</td>\n",
       "      <td>1358.23</td>\n",
       "      <td>3.416554e+08</td>\n",
       "      <td>46.9</td>\n",
       "      <td>1.24</td>\n",
       "    </tr>\n",
       "    <tr>\n",
       "      <th>At Risk</th>\n",
       "      <td>186858</td>\n",
       "      <td>1815.88</td>\n",
       "      <td>3.393124e+08</td>\n",
       "      <td>71.1</td>\n",
       "      <td>1.13</td>\n",
       "    </tr>\n",
       "    <tr>\n",
       "      <th>Hibernating</th>\n",
       "      <td>148421</td>\n",
       "      <td>1575.62</td>\n",
       "      <td>2.338552e+08</td>\n",
       "      <td>71.5</td>\n",
       "      <td>1.00</td>\n",
       "    </tr>\n",
       "    <tr>\n",
       "      <th>Big Spenders</th>\n",
       "      <td>21533</td>\n",
       "      <td>7318.97</td>\n",
       "      <td>1.575994e+08</td>\n",
       "      <td>48.5</td>\n",
       "      <td>1.00</td>\n",
       "    </tr>\n",
       "    <tr>\n",
       "      <th>New</th>\n",
       "      <td>66150</td>\n",
       "      <td>1534.37</td>\n",
       "      <td>1.014985e+08</td>\n",
       "      <td>40.6</td>\n",
       "      <td>1.00</td>\n",
       "    </tr>\n",
       "    <tr>\n",
       "      <th>Others</th>\n",
       "      <td>115401</td>\n",
       "      <td>480.37</td>\n",
       "      <td>5.543520e+07</td>\n",
       "      <td>48.6</td>\n",
       "      <td>1.00</td>\n",
       "    </tr>\n",
       "  </tbody>\n",
       "</table>\n",
       "</div>"
      ],
      "text/plain": [
       "              CustomerCount  AvgMonetary  TotalMonetary  AvgRecency  \\\n",
       "Segment                                                               \n",
       "Champions             88856      4523.18   4.019116e+08        39.9   \n",
       "Loyal                251544      1358.23   3.416554e+08        46.9   \n",
       "At Risk              186858      1815.88   3.393124e+08        71.1   \n",
       "Hibernating          148421      1575.62   2.338552e+08        71.5   \n",
       "Big Spenders          21533      7318.97   1.575994e+08        48.5   \n",
       "New                   66150      1534.37   1.014985e+08        40.6   \n",
       "Others               115401       480.37   5.543520e+07        48.6   \n",
       "\n",
       "              AvgFrequency  \n",
       "Segment                     \n",
       "Champions             1.85  \n",
       "Loyal                 1.24  \n",
       "At Risk               1.13  \n",
       "Hibernating           1.00  \n",
       "Big Spenders          1.00  \n",
       "New                   1.00  \n",
       "Others                1.00  "
      ]
     },
     "execution_count": 55,
     "metadata": {},
     "output_type": "execute_result"
    }
   ],
   "source": [
    "# Create segment summary with both mean and sum for Monetary\n",
    "segment_summary = RFM_Table.groupby('Segment').agg({\n",
    "    'CustomerID': 'count',\n",
    "    'Monetary': ['mean', 'sum'],\n",
    "    'Recency': 'mean',\n",
    "    'Frequency': 'mean'\n",
    "})\n",
    "\n",
    "# Rename columns for clarity\n",
    "segment_summary.columns = [\n",
    "    'CustomerCount', \n",
    "    'AvgMonetary', \n",
    "    'TotalMonetary', \n",
    "    'AvgRecency', \n",
    "    'AvgFrequency'\n",
    "]\n",
    "\n",
    "# Round values for cleaner presentation\n",
    "segment_summary = segment_summary.round({\n",
    "    'AvgMonetary': 2,\n",
    "    'TotalMonetary': 2,\n",
    "    'AvgRecency': 1,\n",
    "    'AvgFrequency': 2\n",
    "})\n",
    "\n",
    "# Sort by total monetary value (highest revenue segments first)\n",
    "segment_summary = segment_summary.sort_values(by='TotalMonetary', ascending=False)\n",
    "\n",
    "# Display the updated segment summary\n",
    "segment_summary\n"
   ]
  },
  {
   "cell_type": "code",
   "execution_count": 56,
   "id": "25ce0830",
   "metadata": {},
   "outputs": [
    {
     "data": {
      "image/png": "[encoded data removed]",
      "text/plain": [
       "<Figure size 1000x600 with 2 Axes>"
      ]
     },
     "metadata": {},
     "output_type": "display_data"
    }
   ],
   "source": [
    "\n",
    "# Prepare data\n",
    "rfm_heatmap = segment_summary[['AvgRecency', 'AvgFrequency', 'AvgMonetary']]\n",
    "\n",
    "plt.figure(figsize=(10, 6))\n",
    "sns.heatmap(rfm_heatmap, annot=True, fmt=\".1f\", cmap=\"YlGnBu\")\n",
    "plt.title('Average RFM Scores by Segment')\n",
    "plt.show()\n"
   ]
  },
  {
   "cell_type": "code",
   "execution_count": 57,
   "id": "c72b6f97",
   "metadata": {},
   "outputs": [
    {
     "data": {
      "image/png": "[encoded data removed]",
      "text/plain": [
       "<Figure size 1000x600 with 1 Axes>"
      ]
     },
     "metadata": {},
     "output_type": "display_data"
    }
   ],
   "source": [
    "# Sort values by total monetary\n",
    "segment_summary_sorted = segment_summary.sort_values(by='TotalMonetary', ascending=False)\n",
    "\n",
    "plt.figure(figsize=(10, 6))\n",
    "bars = plt.bar(segment_summary_sorted.index, segment_summary_sorted['TotalMonetary'], color='skyblue')\n",
    "\n",
    "plt.title('Total Monetary Value by Segment')\n",
    "plt.xlabel('Segment')\n",
    "plt.ylabel('Total Monetary Value')\n",
    "plt.xticks(rotation=45)\n",
    "\n",
    "# Add value labels on top of bars\n",
    "for bar in bars:\n",
    "    yval = bar.get_height()\n",
    "    plt.text(bar.get_x() + bar.get_width()/2, yval + 0.05*yval, f'{yval:,.0f}', ha='center', va='bottom', fontsize=9)\n",
    "\n",
    "plt.tight_layout()\n",
    "plt.show()\n"
   ]
  },
  {
   "cell_type": "markdown",
   "id": "cb27a5d4",
   "metadata": {},
   "source": [
    "\n",
    "\n",
    "**What it shows:**  \n",
    "Customer count, average spending, recency (how long ago they purchased), and frequency (how often they buy) grouped by segment.\n",
    "\n",
    "**Why it matters:**  \n",
    "This helps you understand which groups are active, profitable, and worth engaging.\n",
    "\n",
    "### Key Insights:\n",
    "- **Champions**: Recent, frequent, high spenders ; The most valuable customers.\n",
    "- **Loyal**: Biggest segment. They buy often and steadily : ideal for retention.\n",
    "- **At Risk** / **Hibernating**: Customers who once bought but are going quiet : reactivate them.\n",
    "- **Big Spenders**: Spend the most per transaction but only once :consider upselling.\n",
    "- **New**: Recently joined, moderate spend : nurture their loyalty.\n",
    "- **Others**: Low-value, low-engagement customers :deprioritize.\n"
   ]
  },
  {
   "cell_type": "markdown",
   "id": "26ce67b2",
   "metadata": {},
   "source": [
    "### Custom CLV (Customer Lifetime Value)\n",
    "\n",
    "#### What Is CLV : CLV estimates how much revenue a customer is expected to generate over their \"lifetime\" with the business."
   ]
  },
  {
   "cell_type": "code",
   "execution_count": 70,
   "id": "c2bef17b",
   "metadata": {},
   "outputs": [
    {
     "name": "stdout",
     "output_type": "stream",
     "text": [
      "📊 Estimated Customer Lifetime Value (CLV) by Segment:\n",
      "              CustomerCount    AvgCLV      TotalCLV\n",
      "Segment                                            \n",
      "Champions             88856  15608.72  1.386929e+09\n",
      "Loyal                251544   3192.52  8.030601e+08\n",
      "At Risk              186858   2324.05  4.342677e+08\n",
      "Big Spenders          21533  18652.27  4.016393e+08\n",
      "New                   66150   4804.39  3.178106e+08\n",
      "Hibernating          148421   1997.16  2.964212e+08\n",
      "Others               115401   1118.99  1.291324e+08\n"
     ]
    }
   ],
   "source": [
    "# Add small value to avoid division by zero\n",
    "RFM_Table['Safe_Recency'] = RFM_Table['Recency'].replace(0, 1)\n",
    "RFM_Table['Safe_Frequency'] = RFM_Table['Frequency'].replace(0, 1)\n",
    "\n",
    "# Recalculate AvgPurchaseValue and EstCLV using safe values\n",
    "RFM_Table['AvgPurchaseValue'] = RFM_Table['Monetary'] / RFM_Table['Safe_Frequency']\n",
    "RFM_Table['EstCLV'] = (\n",
    "    RFM_Table['AvgPurchaseValue'] * \n",
    "    RFM_Table['Safe_Frequency'] * \n",
    "    (90 / RFM_Table['Safe_Recency'])\n",
    ")\n",
    "\n",
    "# Round for readability\n",
    "RFM_Table['AvgPurchaseValue'] = RFM_Table['AvgPurchaseValue'].round(2)\n",
    "RFM_Table['EstCLV'] = RFM_Table['EstCLV'].round(2)\n",
    "\n",
    "clv_summary = RFM_Table.groupby('Segment').agg({\n",
    "    'CustomerID': 'count',\n",
    "    'EstCLV': ['mean', 'sum']\n",
    "})\n",
    "\n",
    "clv_summary.columns = ['CustomerCount', 'AvgCLV', 'TotalCLV']\n",
    "clv_summary = clv_summary.round(2).sort_values(by='TotalCLV', ascending=False)\n",
    "\n",
    "print(\"📊 Estimated Customer Lifetime Value (CLV) by Segment:\")\n",
    "print(clv_summary)\n",
    "\n"
   ]
  },
  {
   "cell_type": "code",
   "execution_count": 69,
   "id": "7dde581e",
   "metadata": {},
   "outputs": [
    {
     "data": {
      "image/png": "[encoded data removed]",
      "text/plain": [
       "<Figure size 1600x600 with 2 Axes>"
      ]
     },
     "metadata": {},
     "output_type": "display_data"
    }
   ],
   "source": [
    "\n",
    "# Sort the data for consistency\n",
    "clv_sorted = clv_summary.sort_values(by='AvgCLV', ascending=False)\n",
    "\n",
    "# Create subplots: 1 row, 2 columns\n",
    "fig, axes = plt.subplots(1, 2, figsize=(16, 6))\n",
    "\n",
    "# -------- Left Plot: Avg CLV --------\n",
    "bars1 = axes[0].bar(clv_sorted.index, clv_sorted['AvgCLV'], color='green')\n",
    "axes[0].set_title('Average CLV by Segment')\n",
    "axes[0].set_xlabel('Segment')\n",
    "axes[0].set_ylabel('Avg CLV')\n",
    "axes[0].tick_params(axis='x', rotation=45)\n",
    "\n",
    "# Add value labels\n",
    "\n",
    "for bar in bars1:\n",
    "    yval = bar.get_height()\n",
    "    axes[0].text(\n",
    "        bar.get_x() + bar.get_width()/2,\n",
    "        yval + 0.10*yval,  # push higher above bar\n",
    "        f'{yval:,.0f}',\n",
    "        ha='center',\n",
    "        va='bottom',\n",
    "        fontsize=9\n",
    "    )\n",
    "\n",
    "# -------- Right Plot: Total CLV --------\n",
    "bars2 = axes[1].bar(clv_sorted.index, clv_sorted['TotalCLV'], color='skyblue')\n",
    "axes[1].set_title('Total CLV by Segment')\n",
    "axes[1].set_xlabel('Segment')\n",
    "axes[1].set_ylabel('Total CLV')\n",
    "axes[1].tick_params(axis='x', rotation=45)\n",
    "\n",
    "# Add value labels\n",
    "for bar in bars2:\n",
    "    yval = bar.get_height()\n",
    "    axes[1].text(\n",
    "        bar.get_x() + bar.get_width()/2,\n",
    "        yval + 0.10*yval,  # slightly above the bar\n",
    "        f'{yval:,.0f}',    # remove /1e9 and \"B\"\n",
    "        ha='center',\n",
    "        va='bottom',\n",
    "        fontsize=9\n",
    "    )\n",
    "\n",
    "# Final layout\n",
    "plt.tight_layout()\n",
    "plt.show()\n"
   ]
  },
  {
   "cell_type": "markdown",
   "id": "808436ec",
   "metadata": {},
   "source": [
    "**What it shows:**  \n",
    "Predicted future revenue from each customer segment based on spending behavior.\n",
    "\n",
    "**Why it matters:**  \n",
    "This helps prioritize long-term strategy and forecast future revenue per group.\n",
    "\n",
    "### Key Insights:\n",
    "- **Champions** & **Big Spenders**: Highest value per customer : focus on retention and rewards.\n",
    "- **Loyal**: Massive total value due to large size : great for scaling offers.\n",
    "- **At Risk** / **Hibernating**: Still valuable : win-back campaigns can recover revenue.\n",
    "- **New**: High potential if nurtured early.\n",
    "- **Others**: Low future value :low marketing priority."
   ]
  },
  {
   "cell_type": "markdown",
   "id": "cbb1e615",
   "metadata": {},
   "source": [
    "### Mapping Customer Segments to Campaign Strategies"
   ]
  },
  {
   "cell_type": "code",
   "execution_count": 60,
   "id": "3a44c1e8",
   "metadata": {},
   "outputs": [
    {
     "name": "stdout",
     "output_type": "stream",
     "text": [
      "  CustomerID      Segment    EstCLV      Campaign_Target\n",
      "0   C1010011    Champions  74547.60          VIP_Program\n",
      "1   C1010012  Hibernating   8046.10   Reactivation_Email\n",
      "2   C1010014      At Risk   7081.00     Winback_Campaign\n",
      "3   C1010018          New    304.17  Onboarding_Sequence\n",
      "4   C1010024  Hibernating  28515.62   Reactivation_Email\n",
      "5   C1010028       Others   3835.94         Low_Priority\n",
      "6   C1010031      At Risk   8722.56     Winback_Campaign\n",
      "7   C1010035        Loyal   4977.27      Exclusive_Deals\n",
      "8   C1010036       Others   1355.71         Low_Priority\n",
      "9   C1010037  Hibernating  98400.00   Reactivation_Email\n"
     ]
    }
   ],
   "source": [
    "# Step: Map each segment to a marketing campaign strategy\n",
    "RFM_Table['Campaign_Target'] = RFM_Table['Segment'].map({\n",
    "    'Champions': 'VIP_Program',\n",
    "    'Loyal': 'Exclusive_Deals',\n",
    "    'At Risk': 'Winback_Campaign',\n",
    "    'Hibernating': 'Reactivation_Email',\n",
    "    'Big Spenders': 'Premium_Upgrade',\n",
    "    'New': 'Onboarding_Sequence',\n",
    "    'Others': 'Low_Priority'\n",
    "})\n",
    "\n",
    "\n",
    "\n",
    "# Preview table with campaign targeting\n",
    "print(RFM_Table[['CustomerID', 'Segment', 'EstCLV', 'Campaign_Target']].head(10))\n"
   ]
  },
  {
   "cell_type": "markdown",
   "id": "99aafc68",
   "metadata": {},
   "source": [
    "### Customer Segmentation vs Campaign Target Distribution"
   ]
  },
  {
   "cell_type": "code",
   "execution_count": 61,
   "id": "348f802a",
   "metadata": {},
   "outputs": [
    {
     "data": {
      "image/png": "[encoded data removed]",
      "text/plain": [
       "<Figure size 1600x600 with 2 Axes>"
      ]
     },
     "metadata": {},
     "output_type": "display_data"
    }
   ],
   "source": [
    "import matplotlib.pyplot as plt\n",
    "\n",
    "# --- Prepare data ---\n",
    "# Segment Distribution\n",
    "segment_counts = segment_summary['CustomerCount']\n",
    "\n",
    "# Campaign Distribution\n",
    "campaign_distribution = RFM_Table['Campaign_Target'].value_counts()\n",
    "\n",
    "# --- Plot side-by-side ---\n",
    "fig, axes = plt.subplots(1, 2, figsize=(16, 6))\n",
    "\n",
    "# Pie Chart for Segment Distribution\n",
    "axes[0].pie(segment_counts, labels=segment_counts.index, autopct='%1.1f%%', startangle=140)\n",
    "axes[0].set_title('Customer Distribution by Segment')\n",
    "axes[0].axis('equal')\n",
    "\n",
    "# Bar Chart for Campaign Target Distribution\n",
    "axes[1].bar(campaign_distribution.index, campaign_distribution.values, color='orange')\n",
    "axes[1].set_title('Customer Count by Campaign Target')\n",
    "axes[1].set_ylabel('Customer Count')\n",
    "axes[1].tick_params(axis='x', rotation=45)\n",
    "\n",
    "plt.tight_layout()\n",
    "plt.show()\n"
   ]
  },
  {
   "cell_type": "markdown",
   "id": "912146c0",
   "metadata": {},
   "source": [
    "**What it shows:**  \n",
    "Each customer's predicted CLV, their segment, and which marketing campaign they belong to.\n",
    "\n",
    "**Why it matters:**  \n",
    "You now have a ready-to-use list for personalized campaigns.\n",
    "\n",
    "### 🔍 Example:\n",
    "- `C1010011` → **Champion** → Target with **VIP_Program**\n",
    "- `C1010037` → **Loyal** → Target with **Exclusive_Deals**\n",
    "- `C1010036` → **Others** → Assign to **Low_Priority** campaign\n",
    "\n",
    "### insights \n",
    "\n",
    "- Most customers fall into the **Loyal**, **At Risk**, and **Hibernating** segments.\n",
    "- Campaign targets like **Exclusive_Deals**, **Winback_Campaign**, and **Reactivation_Email** cover the largest customer groups.\n",
    "- Ensures alignment between **segment size** and **marketing focus**, helping to prioritize high-impact campaigns.\n"
   ]
  },
  {
   "cell_type": "markdown",
   "id": "f1da27b4",
   "metadata": {},
   "source": [
    "####  Total Estimated Customer Lifetime Value (CLV) by Campaign Target"
   ]
  },
  {
   "cell_type": "code",
   "execution_count": 71,
   "id": "43c78888",
   "metadata": {},
   "outputs": [
    {
     "name": "stdout",
     "output_type": "stream",
     "text": [
      "🎯 Campaign-Level Target Summary:\n",
      "                     TargetCount  TotalTargetCLV\n",
      "Campaign_Target                                 \n",
      "VIP_Program                88856    1.386929e+09\n",
      "Exclusive_Deals           251544    8.030601e+08\n",
      "Winback_Campaign          186858    4.342677e+08\n",
      "Premium_Upgrade            21533    4.016393e+08\n",
      "Onboarding_Sequence        66150    3.178106e+08\n",
      "Reactivation_Email        148421    2.964212e+08\n",
      "Low_Priority              115401    1.291324e+08\n"
     ]
    }
   ],
   "source": [
    "campaign_summary = RFM_Table.groupby('Campaign_Target').agg({\n",
    "    'CustomerID': 'count',\n",
    "    'EstCLV': 'sum'\n",
    "}).rename(columns={\n",
    "    'CustomerID': 'TargetCount',\n",
    "    'EstCLV': 'TotalTargetCLV'\n",
    "}).sort_values(by='TotalTargetCLV', ascending=False)\n",
    "\n",
    "campaign_summary = campaign_summary.round(2)\n",
    "\n",
    "print(\"🎯 Campaign-Level Target Summary:\")\n",
    "print(campaign_summary)\n"
   ]
  },
  {
   "cell_type": "code",
   "execution_count": 72,
   "id": "112240a7",
   "metadata": {},
   "outputs": [
    {
     "data": {
      "image/png": "[encoded data removed]",
      "text/plain": [
       "<Figure size 1000x600 with 1 Axes>"
      ]
     },
     "metadata": {},
     "output_type": "display_data"
    }
   ],
   "source": [
    "\n",
    "# Sort by Total CLV\n",
    "campaign_sorted = campaign_summary.sort_values(by='TotalTargetCLV', ascending=True)\n",
    "\n",
    "plt.figure(figsize=(10, 6))\n",
    "bars = plt.barh(campaign_sorted.index, campaign_sorted['TotalTargetCLV'], color='steelblue')\n",
    "plt.title('Estimated Total CLV by Campaign')\n",
    "plt.xlabel('Total Estimated CLV')\n",
    "plt.ylabel('Campaign Target')\n",
    "\n",
    "# Add value labels\n",
    "for bar in bars:\n",
    "    width = bar.get_width()\n",
    "    plt.text(width + 1e7, bar.get_y() + bar.get_height()/2, f'{width/1e9:.2f}B', va='center', fontsize=9)\n",
    "\n",
    "plt.tight_layout()\n",
    "plt.show()\n"
   ]
  },
  {
   "cell_type": "markdown",
   "id": "cada55ac",
   "metadata": {},
   "source": [
    "\n",
    "**What it shows:**  \n",
    "Total number of customers and total predicted revenue (CLV) per campaign group.\n",
    "\n",
    "**Why it matters:**  \n",
    "It helps allocate marketing budget and efforts where they’ll make the biggest impact.\n",
    "\n",
    "### Insights:\n",
    "- **VIP_Program**: Highest individual CLV — protect these elite customers.\n",
    "- **Exclusive_Deals**: Highest reach and total CLV — drive consistent revenue.\n",
    "- **Winback_Campaign / Reactivation_Email**: Huge opportunity to recover lost value.\n",
    "- **Onboarding_Sequence**: Important for growing newer customers.\n",
    "- **Low_Priority**: Least valuable — don’t over-invest."
   ]
  },
  {
   "cell_type": "markdown",
   "id": "de60572a",
   "metadata": {},
   "source": [
    "### Final Table Summary"
   ]
  },
  {
   "cell_type": "code",
   "execution_count": 64,
   "id": "fd44068a",
   "metadata": {},
   "outputs": [
    {
     "data": {
      "application/vnd.microsoft.datawrangler.viewer.v0+json": {
       "columns": [
        {
         "name": "index",
         "rawType": "int64",
         "type": "integer"
        },
        {
         "name": "CustomerID",
         "rawType": "object",
         "type": "string"
        },
        {
         "name": "Recency",
         "rawType": "int64",
         "type": "integer"
        },
        {
         "name": "Frequency",
         "rawType": "int64",
         "type": "integer"
        },
        {
         "name": "Monetary",
         "rawType": "float64",
         "type": "float"
        },
        {
         "name": "R_Score",
         "rawType": "category",
         "type": "unknown"
        },
        {
         "name": "F_Score",
         "rawType": "category",
         "type": "unknown"
        },
        {
         "name": "M_Score",
         "rawType": "category",
         "type": "unknown"
        },
        {
         "name": "RFM_Score",
         "rawType": "object",
         "type": "string"
        },
        {
         "name": "Segment",
         "rawType": "object",
         "type": "string"
        },
        {
         "name": "Safe_Recency",
         "rawType": "int64",
         "type": "integer"
        },
        {
         "name": "Safe_Frequency",
         "rawType": "int64",
         "type": "integer"
        },
        {
         "name": "AvgPurchaseValue",
         "rawType": "float64",
         "type": "float"
        },
        {
         "name": "EstCLV",
         "rawType": "float64",
         "type": "float"
        },
        {
         "name": "Campaign_Target",
         "rawType": "object",
         "type": "string"
        }
       ],
       "ref": "b2a0dc31-9e49-4381-9767-50e3d79419b8",
       "rows": [
        [
         "0",
         "C1010011",
         "25",
         "2",
         "5106.0",
         "5",
         "5",
         "5",
         "555",
         "Champions",
         "25",
         "2",
         "2553.0",
         "74547.6",
         "VIP_Program"
        ],
        [
         "1",
         "C1010012",
         "68",
         "1",
         "1499.0",
         "2",
         "1",
         "4",
         "214",
         "Hibernating",
         "68",
         "1",
         "1499.0",
         "8046.1",
         "Reactivation_Email"
        ],
        [
         "2",
         "C1010014",
         "75",
         "2",
         "1455.0",
         "1",
         "5",
         "4",
         "154",
         "At Risk",
         "75",
         "2",
         "727.5",
         "7081.0",
         "Winback_Campaign"
        ],
        [
         "3",
         "C1010018",
         "36",
         "1",
         "30.0",
         "5",
         "1",
         "1",
         "511",
         "New",
         "36",
         "1",
         "30.0",
         "304.17",
         "Onboarding_Sequence"
        ],
        [
         "4",
         "C1010024",
         "64",
         "1",
         "5000.0",
         "2",
         "1",
         "5",
         "215",
         "Hibernating",
         "64",
         "1",
         "5000.0",
         "28515.62",
         "Reactivation_Email"
        ],
        [
         "5",
         "C1010028",
         "53",
         "1",
         "557.0",
         "3",
         "1",
         "3",
         "313",
         "Others",
         "53",
         "1",
         "557.0",
         "3835.94",
         "Low_Priority"
        ],
        [
         "6",
         "C1010031",
         "78",
         "2",
         "1864.0",
         "1",
         "5",
         "4",
         "154",
         "At Risk",
         "78",
         "2",
         "932.0",
         "8722.56",
         "Winback_Campaign"
        ],
        [
         "7",
         "C1010035",
         "55",
         "2",
         "750.0",
         "3",
         "5",
         "3",
         "353",
         "Loyal",
         "55",
         "2",
         "375.0",
         "4977.27",
         "Exclusive_Deals"
        ],
        [
         "8",
         "C1010036",
         "56",
         "1",
         "208.0",
         "3",
         "1",
         "2",
         "312",
         "Others",
         "56",
         "1",
         "208.0",
         "1355.71",
         "Low_Priority"
        ],
        [
         "9",
         "C1010037",
         "73",
         "1",
         "19680.0",
         "1",
         "1",
         "5",
         "115",
         "Hibernating",
         "73",
         "1",
         "19680.0",
         "98400.0",
         "Reactivation_Email"
        ]
       ],
       "shape": {
        "columns": 14,
        "rows": 10
       }
      },
      "text/html": [
       "<div>\n",
       "<style scoped>\n",
       "    .dataframe tbody tr th:only-of-type {\n",
       "        vertical-align: middle;\n",
       "    }\n",
       "\n",
       "    .dataframe tbody tr th {\n",
       "        vertical-align: top;\n",
       "    }\n",
       "\n",
       "    .dataframe thead th {\n",
       "        text-align: right;\n",
       "    }\n",
       "</style>\n",
       "<table border=\"1\" class=\"dataframe\">\n",
       "  <thead>\n",
       "    <tr style=\"text-align: right;\">\n",
       "      <th></th>\n",
       "      <th>CustomerID</th>\n",
       "      <th>Recency</th>\n",
       "      <th>Frequency</th>\n",
       "      <th>Monetary</th>\n",
       "      <th>R_Score</th>\n",
       "      <th>F_Score</th>\n",
       "      <th>M_Score</th>\n",
       "      <th>RFM_Score</th>\n",
       "      <th>Segment</th>\n",
       "      <th>Safe_Recency</th>\n",
       "      <th>Safe_Frequency</th>\n",
       "      <th>AvgPurchaseValue</th>\n",
       "      <th>EstCLV</th>\n",
       "      <th>Campaign_Target</th>\n",
       "    </tr>\n",
       "  </thead>\n",
       "  <tbody>\n",
       "    <tr>\n",
       "      <th>0</th>\n",
       "      <td>C1010011</td>\n",
       "      <td>25</td>\n",
       "      <td>2</td>\n",
       "      <td>5106.0</td>\n",
       "      <td>5</td>\n",
       "      <td>5</td>\n",
       "      <td>5</td>\n",
       "      <td>555</td>\n",
       "      <td>Champions</td>\n",
       "      <td>25</td>\n",
       "      <td>2</td>\n",
       "      <td>2553.0</td>\n",
       "      <td>74547.60</td>\n",
       "      <td>VIP_Program</td>\n",
       "    </tr>\n",
       "    <tr>\n",
       "      <th>1</th>\n",
       "      <td>C1010012</td>\n",
       "      <td>68</td>\n",
       "      <td>1</td>\n",
       "      <td>1499.0</td>\n",
       "      <td>2</td>\n",
       "      <td>1</td>\n",
       "      <td>4</td>\n",
       "      <td>214</td>\n",
       "      <td>Hibernating</td>\n",
       "      <td>68</td>\n",
       "      <td>1</td>\n",
       "      <td>1499.0</td>\n",
       "      <td>8046.10</td>\n",
       "      <td>Reactivation_Email</td>\n",
       "    </tr>\n",
       "    <tr>\n",
       "      <th>2</th>\n",
       "      <td>C1010014</td>\n",
       "      <td>75</td>\n",
       "      <td>2</td>\n",
       "      <td>1455.0</td>\n",
       "      <td>1</td>\n",
       "      <td>5</td>\n",
       "      <td>4</td>\n",
       "      <td>154</td>\n",
       "      <td>At Risk</td>\n",
       "      <td>75</td>\n",
       "      <td>2</td>\n",
       "      <td>727.5</td>\n",
       "      <td>7081.00</td>\n",
       "      <td>Winback_Campaign</td>\n",
       "    </tr>\n",
       "    <tr>\n",
       "      <th>3</th>\n",
       "      <td>C1010018</td>\n",
       "      <td>36</td>\n",
       "      <td>1</td>\n",
       "      <td>30.0</td>\n",
       "      <td>5</td>\n",
       "      <td>1</td>\n",
       "      <td>1</td>\n",
       "      <td>511</td>\n",
       "      <td>New</td>\n",
       "      <td>36</td>\n",
       "      <td>1</td>\n",
       "      <td>30.0</td>\n",
       "      <td>304.17</td>\n",
       "      <td>Onboarding_Sequence</td>\n",
       "    </tr>\n",
       "    <tr>\n",
       "      <th>4</th>\n",
       "      <td>C1010024</td>\n",
       "      <td>64</td>\n",
       "      <td>1</td>\n",
       "      <td>5000.0</td>\n",
       "      <td>2</td>\n",
       "      <td>1</td>\n",
       "      <td>5</td>\n",
       "      <td>215</td>\n",
       "      <td>Hibernating</td>\n",
       "      <td>64</td>\n",
       "      <td>1</td>\n",
       "      <td>5000.0</td>\n",
       "      <td>28515.62</td>\n",
       "      <td>Reactivation_Email</td>\n",
       "    </tr>\n",
       "    <tr>\n",
       "      <th>5</th>\n",
       "      <td>C1010028</td>\n",
       "      <td>53</td>\n",
       "      <td>1</td>\n",
       "      <td>557.0</td>\n",
       "      <td>3</td>\n",
       "      <td>1</td>\n",
       "      <td>3</td>\n",
       "      <td>313</td>\n",
       "      <td>Others</td>\n",
       "      <td>53</td>\n",
       "      <td>1</td>\n",
       "      <td>557.0</td>\n",
       "      <td>3835.94</td>\n",
       "      <td>Low_Priority</td>\n",
       "    </tr>\n",
       "    <tr>\n",
       "      <th>6</th>\n",
       "      <td>C1010031</td>\n",
       "      <td>78</td>\n",
       "      <td>2</td>\n",
       "      <td>1864.0</td>\n",
       "      <td>1</td>\n",
       "      <td>5</td>\n",
       "      <td>4</td>\n",
       "      <td>154</td>\n",
       "      <td>At Risk</td>\n",
       "      <td>78</td>\n",
       "      <td>2</td>\n",
       "      <td>932.0</td>\n",
       "      <td>8722.56</td>\n",
       "      <td>Winback_Campaign</td>\n",
       "    </tr>\n",
       "    <tr>\n",
       "      <th>7</th>\n",
       "      <td>C1010035</td>\n",
       "      <td>55</td>\n",
       "      <td>2</td>\n",
       "      <td>750.0</td>\n",
       "      <td>3</td>\n",
       "      <td>5</td>\n",
       "      <td>3</td>\n",
       "      <td>353</td>\n",
       "      <td>Loyal</td>\n",
       "      <td>55</td>\n",
       "      <td>2</td>\n",
       "      <td>375.0</td>\n",
       "      <td>4977.27</td>\n",
       "      <td>Exclusive_Deals</td>\n",
       "    </tr>\n",
       "    <tr>\n",
       "      <th>8</th>\n",
       "      <td>C1010036</td>\n",
       "      <td>56</td>\n",
       "      <td>1</td>\n",
       "      <td>208.0</td>\n",
       "      <td>3</td>\n",
       "      <td>1</td>\n",
       "      <td>2</td>\n",
       "      <td>312</td>\n",
       "      <td>Others</td>\n",
       "      <td>56</td>\n",
       "      <td>1</td>\n",
       "      <td>208.0</td>\n",
       "      <td>1355.71</td>\n",
       "      <td>Low_Priority</td>\n",
       "    </tr>\n",
       "    <tr>\n",
       "      <th>9</th>\n",
       "      <td>C1010037</td>\n",
       "      <td>73</td>\n",
       "      <td>1</td>\n",
       "      <td>19680.0</td>\n",
       "      <td>1</td>\n",
       "      <td>1</td>\n",
       "      <td>5</td>\n",
       "      <td>115</td>\n",
       "      <td>Hibernating</td>\n",
       "      <td>73</td>\n",
       "      <td>1</td>\n",
       "      <td>19680.0</td>\n",
       "      <td>98400.00</td>\n",
       "      <td>Reactivation_Email</td>\n",
       "    </tr>\n",
       "  </tbody>\n",
       "</table>\n",
       "</div>"
      ],
      "text/plain": [
       "  CustomerID  Recency  Frequency  Monetary R_Score F_Score M_Score RFM_Score  \\\n",
       "0   C1010011       25          2    5106.0       5       5       5       555   \n",
       "1   C1010012       68          1    1499.0       2       1       4       214   \n",
       "2   C1010014       75          2    1455.0       1       5       4       154   \n",
       "3   C1010018       36          1      30.0       5       1       1       511   \n",
       "4   C1010024       64          1    5000.0       2       1       5       215   \n",
       "5   C1010028       53          1     557.0       3       1       3       313   \n",
       "6   C1010031       78          2    1864.0       1       5       4       154   \n",
       "7   C1010035       55          2     750.0       3       5       3       353   \n",
       "8   C1010036       56          1     208.0       3       1       2       312   \n",
       "9   C1010037       73          1   19680.0       1       1       5       115   \n",
       "\n",
       "       Segment  Safe_Recency  Safe_Frequency  AvgPurchaseValue    EstCLV  \\\n",
       "0    Champions            25               2            2553.0  74547.60   \n",
       "1  Hibernating            68               1            1499.0   8046.10   \n",
       "2      At Risk            75               2             727.5   7081.00   \n",
       "3          New            36               1              30.0    304.17   \n",
       "4  Hibernating            64               1            5000.0  28515.62   \n",
       "5       Others            53               1             557.0   3835.94   \n",
       "6      At Risk            78               2             932.0   8722.56   \n",
       "7        Loyal            55               2             375.0   4977.27   \n",
       "8       Others            56               1             208.0   1355.71   \n",
       "9  Hibernating            73               1           19680.0  98400.00   \n",
       "\n",
       "       Campaign_Target  \n",
       "0          VIP_Program  \n",
       "1   Reactivation_Email  \n",
       "2     Winback_Campaign  \n",
       "3  Onboarding_Sequence  \n",
       "4   Reactivation_Email  \n",
       "5         Low_Priority  \n",
       "6     Winback_Campaign  \n",
       "7      Exclusive_Deals  \n",
       "8         Low_Priority  \n",
       "9   Reactivation_Email  "
      ]
     },
     "execution_count": 64,
     "metadata": {},
     "output_type": "execute_result"
    }
   ],
   "source": [
    "RFM_Table.head(10)"
   ]
  },
  {
   "cell_type": "markdown",
   "id": "ac767c92",
   "metadata": {},
   "source": [
    "# Summary of Insights & Recommendations\n",
    "\n",
    "##  General Insights\n",
    "\n",
    "This project helps the business understand **who its customers really are** not just by how much they spend, but also by **how recently** and **how often** they buy.\n",
    "\n",
    "\n",
    "With RFM and Customer Lifetime Value (CLV), we now have a clear picture of:\n",
    "- Customers with **the highest long-term value** (Champions, Big Spenders)\n",
    "- Those who are **loyal and consistent** (Loyal segment)\n",
    "- Those who are **drifting away** (At Risk, Hibernating)\n",
    "- And customers who are **just getting started** (New)\n",
    "\n",
    "Every customer is matched with a **personalized campaign strategy**, so marketing becomes smarter and more focused, no more one-size-fits-all.\n",
    "\n",
    "---\n",
    "\n",
    "## What the Visuals Reveal\n",
    "\n",
    "\n",
    "-  ### **Heatmap of RFM scores** shows:\n",
    "  - **Champions** and **Big Spenders** lead in average spend.\n",
    "  - **Loyal** customers buy frequently but moderately.\n",
    "  - **At Risk** and **Hibernating** groups haven’t purchased recently which is a red flag for churn.\n",
    "\n",
    "- ### **Bar chart of Total Monetary Value** reveals:\n",
    "  - Smaller groups like **Champions** and **Big Spenders** generate the highest total revenue.\n",
    "  - Larger segments like **Others** and **Hibernating** contribute far less — indicating inefficiency.\n",
    "\n",
    "- ### **CLV charts (average & total)** highlight:\n",
    "  - Where future growth lies ; **Champions** and **Big Spenders** have exceptional revenue potential.\n",
    "  - Segments like **Loyal** and **New** offer long-term value if nurtured.\n",
    "  - **Others** remain low-value, ideal for minimal investment.\n",
    "\n",
    "- ### **Pie chart of customer distribution** shows:\n",
    "  - Segments like **Loyal** and **At Risk** dominate in volume.\n",
    "  - High-value groups are fewer in number., emphasizing the need to retain them.\n",
    "\n",
    "- ### **Campaign-level bar chart** makes it clear:\n",
    "  - Campaigns targeting **Champions**, **Loyal**, and **Big Spenders** yield the most revenue.\n",
    "  - **Winback** and **Reactivation** efforts still offer sizable potential.\n",
    "  - **Onboarding** and **Low_Priority** need streamlined, cost-effective approaches.\n",
    "\n",
    "\n",
    "These visuals not only back up data but they **bring clarity to decision-making**, helping teams prioritize by ROI.\n",
    "\n",
    "---\n",
    "\n",
    "##  Business Implications\n",
    "\n",
    "- We can **target marketing spend** more effectively by focusing on high-value segments.\n",
    "- Launch **win-back and reactivation campaigns** to recover lost potential.\n",
    "- Build a **VIP experience** for customers who matter most.\n",
    "- Guide **new customers** with onboarding flows to grow their loyalty.\n",
    "\n",
    "This enables smarter decisions, better customer relationships, and higher returns,  all powered by data.\n",
    "\n",
    "---\n",
    "\n",
    "\n",
    "\n",
    "\n",
    "##  Actionable Recommendations\n",
    "\n",
    "### 1. Retain Best Customers\n",
    "- Prioritize **Champions** and **Big Spenders** with loyalty perks, early access, or personalized service.\n",
    "\n",
    "### 2. Engage Loyal Buyers\n",
    "- Keep the **Loyal** segment active with bundles, exclusive deals, or referral incentives.\n",
    "\n",
    "### 3. Reactivate Lost Value\n",
    "- Reach out to **At Risk** and **Hibernating** customers with limited-time offers or reminders.\n",
    "\n",
    "### 4. Grow New Customers\n",
    "- Design a clear **onboarding journey** with emails, first-purchase incentives, and education.\n",
    "\n",
    "### 5. Avoid Overspending on Low-Value Groups\n",
    "- The **Others** segment has low CLV — limit spending and focus efforts elsewhere.\n",
    "\n",
    "### 6. Use CLV to Drive Marketing Budgets\n",
    "- Let **CLV insights** guide how much to invest per campaign or customer segment.\n",
    "\n",
    "### 7. Refresh Monthly\n",
    "- Set up a simple monthly **automation pipeline** to recalculate RFM + CLV to keep decisions fresh and responsive.\n"
   ]
  }
 ],
 "metadata": {
  "kernelspec": {
   "display_name": "base",
   "language": "python",
   "name": "python3"
  },
  "language_info": {
   "codemirror_mode": {
    "name": "ipython",
    "version": 3
   },
   "file_extension": ".py",
   "mimetype": "text/x-python",
   "name": "python",
   "nbconvert_exporter": "python",
   "pygments_lexer": "ipython3",
   "version": "3.12.3"
  }
 },
 "nbformat": 4,
 "nbformat_minor": 5
}
